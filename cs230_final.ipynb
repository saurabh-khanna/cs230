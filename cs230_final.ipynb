{
 "cells": [
  {
   "cell_type": "code",
   "execution_count": 1,
   "metadata": {
    "id": "sHowRiTZEClf"
   },
   "outputs": [],
   "source": [
    "# import modules\n",
    "import os\n",
    "from pathlib import Path\n",
    "\n",
    "import matplotlib.pyplot as plt\n",
    "import pandas as pd\n",
    "import seaborn as sns\n",
    "\n",
    "sns.set()\n",
    "\n",
    "import re\n",
    "\n",
    "import nltk\n",
    "import numpy as np\n",
    "from keras.layers import Flatten, GlobalMaxPooling1D\n",
    "from keras.layers.convolutional import Conv1D\n",
    "from keras.layers.core import Activation, Dense, Dropout\n",
    "from keras.layers.embeddings import Embedding\n",
    "from keras.layers.recurrent import LSTM\n",
    "from keras.models import Sequential\n",
    "from keras.preprocessing.sequence import pad_sequences\n",
    "from keras.preprocessing.text import Tokenizer, one_hot\n",
    "from nltk.corpus import stopwords\n",
    "from numpy import array, asarray, zeros\n",
    "from sklearn.model_selection import train_test_split"
   ]
  },
  {
   "cell_type": "code",
   "execution_count": 2,
   "metadata": {
    "id": "0ozY9sqJsDOP"
   },
   "outputs": [],
   "source": [
    "# clone github (commenting for local machine)\n",
    "#!git clone https://github.com/saurabh-khanna/cs230.git"
   ]
  },
  {
   "cell_type": "code",
   "execution_count": 3,
   "metadata": {
    "id": "x9OvnpRvFPVx"
   },
   "outputs": [],
   "source": [
    "# read in data\n",
    "txt_folder = Path(\"data_cs230\").rglob(\"*.txt\")\n",
    "files = [x for x in txt_folder]"
   ]
  },
  {
   "cell_type": "code",
   "execution_count": 4,
   "metadata": {
    "id": "qOZ4890MFQlO"
   },
   "outputs": [],
   "source": [
    "# read all files to two Python lists\n",
    "filename = []\n",
    "content = []\n",
    "for name in files:\n",
    "    # print(name)\n",
    "    f = open(name, \"r\")\n",
    "    # split name of title from extension\n",
    "    f_name, f_ext = os.path.splitext(name)\n",
    "    filename.append(f_name[len(f_name) - 3])\n",
    "    content.append(f.readlines()[0])\n",
    "    f.close()"
   ]
  },
  {
   "cell_type": "code",
   "execution_count": 5,
   "metadata": {
    "id": "uZuEuC2hFSOu"
   },
   "outputs": [
    {
     "data": {
      "text/html": [
       "<div>\n",
       "<style scoped>\n",
       "    .dataframe tbody tr th:only-of-type {\n",
       "        vertical-align: middle;\n",
       "    }\n",
       "\n",
       "    .dataframe tbody tr th {\n",
       "        vertical-align: top;\n",
       "    }\n",
       "\n",
       "    .dataframe thead th {\n",
       "        text-align: right;\n",
       "    }\n",
       "</style>\n",
       "<table border=\"1\" class=\"dataframe\">\n",
       "  <thead>\n",
       "    <tr style=\"text-align: right;\">\n",
       "      <th></th>\n",
       "      <th>political_affiliation</th>\n",
       "      <th>speech_text</th>\n",
       "    </tr>\n",
       "  </thead>\n",
       "  <tbody>\n",
       "    <tr>\n",
       "      <th>0</th>\n",
       "      <td>R</td>\n",
       "      <td>mr. chairman , i am supportive , but my unders...</td>\n",
       "    </tr>\n",
       "    <tr>\n",
       "      <th>1</th>\n",
       "      <td>D</td>\n",
       "      <td>mr. chairman , i yield 5 minutes to the gentle...</td>\n",
       "    </tr>\n",
       "    <tr>\n",
       "      <th>2</th>\n",
       "      <td>R</td>\n",
       "      <td>mr. speaker , i yield myself 2 minutes .  mr. ...</td>\n",
       "    </tr>\n",
       "    <tr>\n",
       "      <th>3</th>\n",
       "      <td>D</td>\n",
       "      <td>mr. speaker , the work of this subcommittee ha...</td>\n",
       "    </tr>\n",
       "    <tr>\n",
       "      <th>4</th>\n",
       "      <td>D</td>\n",
       "      <td>mr. speaker , reclaiming my time , i thank aga...</td>\n",
       "    </tr>\n",
       "    <tr>\n",
       "      <th>...</th>\n",
       "      <td>...</td>\n",
       "      <td>...</td>\n",
       "    </tr>\n",
       "    <tr>\n",
       "      <th>3833</th>\n",
       "      <td>D</td>\n",
       "      <td>mr. chairman , i demand a recorded vote .</td>\n",
       "    </tr>\n",
       "    <tr>\n",
       "      <th>3834</th>\n",
       "      <td>R</td>\n",
       "      <td>mr. speaker , i rise in support of s. 5 , the ...</td>\n",
       "    </tr>\n",
       "    <tr>\n",
       "      <th>3835</th>\n",
       "      <td>R</td>\n",
       "      <td>i appreciate the gentleman yielding to me , mr...</td>\n",
       "    </tr>\n",
       "    <tr>\n",
       "      <th>3836</th>\n",
       "      <td>R</td>\n",
       "      <td>mr. chairman , i move to strike the last word ...</td>\n",
       "    </tr>\n",
       "    <tr>\n",
       "      <th>3837</th>\n",
       "      <td>D</td>\n",
       "      <td>mr. speaker , i rise in opposition to h. j. re...</td>\n",
       "    </tr>\n",
       "  </tbody>\n",
       "</table>\n",
       "<p>3838 rows × 2 columns</p>\n",
       "</div>"
      ],
      "text/plain": [
       "     political_affiliation                                        speech_text\n",
       "0                        R  mr. chairman , i am supportive , but my unders...\n",
       "1                        D  mr. chairman , i yield 5 minutes to the gentle...\n",
       "2                        R  mr. speaker , i yield myself 2 minutes .  mr. ...\n",
       "3                        D  mr. speaker , the work of this subcommittee ha...\n",
       "4                        D  mr. speaker , reclaiming my time , i thank aga...\n",
       "...                    ...                                                ...\n",
       "3833                     D        mr. chairman , i demand a recorded vote .  \n",
       "3834                     R  mr. speaker , i rise in support of s. 5 , the ...\n",
       "3835                     R  i appreciate the gentleman yielding to me , mr...\n",
       "3836                     R  mr. chairman , i move to strike the last word ...\n",
       "3837                     D  mr. speaker , i rise in opposition to h. j. re...\n",
       "\n",
       "[3838 rows x 2 columns]"
      ]
     },
     "execution_count": 5,
     "metadata": {},
     "output_type": "execute_result"
    }
   ],
   "source": [
    "# add it into dataframe\n",
    "df = pd.DataFrame({\"political_affiliation\": filename, \"speech_text\": content})\n",
    "df"
   ]
  },
  {
   "cell_type": "markdown",
   "metadata": {},
   "source": [
    "## Data Pre-processing"
   ]
  },
  {
   "cell_type": "code",
   "execution_count": 6,
   "metadata": {},
   "outputs": [
    {
     "data": {
      "text/plain": [
       "<matplotlib.axes._subplots.AxesSubplot at 0x7f9a4c2962b0>"
      ]
     },
     "execution_count": 6,
     "metadata": {},
     "output_type": "execute_result"
    },
    {
     "data": {
      "image/png": "[encoded data removed]",
      "text/plain": [
       "<Figure size 432x288 with 1 Axes>"
      ]
     },
     "metadata": {},
     "output_type": "display_data"
    }
   ],
   "source": [
    "# descriptives\n",
    "sns.countplot(x=\"political_affiliation\", data=df)"
   ]
  },
  {
   "cell_type": "code",
   "execution_count": 7,
   "metadata": {},
   "outputs": [],
   "source": [
    "def preprocess_text(text):\n",
    "    # Remove punctuations and numbers\n",
    "    text = re.sub(\"[^a-zA-Z]\", \" \", text)\n",
    "    # Single character removal\n",
    "    text = re.sub(r\"\\s+[a-zA-Z]\\s+\", \" \", text)\n",
    "    # Removing multiple spaces\n",
    "    text = re.sub(r\"\\s+\", \" \", text)\n",
    "    return text"
   ]
  },
  {
   "cell_type": "code",
   "execution_count": 8,
   "metadata": {
    "id": "hLjP9ArNFShe"
   },
   "outputs": [
    {
     "data": {
      "text/html": [
       "<div>\n",
       "<style scoped>\n",
       "    .dataframe tbody tr th:only-of-type {\n",
       "        vertical-align: middle;\n",
       "    }\n",
       "\n",
       "    .dataframe tbody tr th {\n",
       "        vertical-align: top;\n",
       "    }\n",
       "\n",
       "    .dataframe thead th {\n",
       "        text-align: right;\n",
       "    }\n",
       "</style>\n",
       "<table border=\"1\" class=\"dataframe\">\n",
       "  <thead>\n",
       "    <tr style=\"text-align: right;\">\n",
       "      <th></th>\n",
       "      <th>political_affiliation</th>\n",
       "      <th>speech_text</th>\n",
       "      <th>speech_text_clean</th>\n",
       "    </tr>\n",
       "  </thead>\n",
       "  <tbody>\n",
       "    <tr>\n",
       "      <th>0</th>\n",
       "      <td>R</td>\n",
       "      <td>mr. chairman , i am supportive , but my unders...</td>\n",
       "      <td>mr chairman am supportive but my understanding...</td>\n",
       "    </tr>\n",
       "    <tr>\n",
       "      <th>1</th>\n",
       "      <td>D</td>\n",
       "      <td>mr. chairman , i yield 5 minutes to the gentle...</td>\n",
       "      <td>mr chairman yield minutes to the gentlewoman f...</td>\n",
       "    </tr>\n",
       "    <tr>\n",
       "      <th>2</th>\n",
       "      <td>R</td>\n",
       "      <td>mr. speaker , i yield myself 2 minutes .  mr. ...</td>\n",
       "      <td>mr speaker yield myself minutes mr speaker jus...</td>\n",
       "    </tr>\n",
       "    <tr>\n",
       "      <th>3</th>\n",
       "      <td>D</td>\n",
       "      <td>mr. speaker , the work of this subcommittee ha...</td>\n",
       "      <td>mr speaker the work of this subcommittee has a...</td>\n",
       "    </tr>\n",
       "    <tr>\n",
       "      <th>4</th>\n",
       "      <td>D</td>\n",
       "      <td>mr. speaker , reclaiming my time , i thank aga...</td>\n",
       "      <td>mr speaker reclaiming my time thank again the ...</td>\n",
       "    </tr>\n",
       "    <tr>\n",
       "      <th>...</th>\n",
       "      <td>...</td>\n",
       "      <td>...</td>\n",
       "      <td>...</td>\n",
       "    </tr>\n",
       "    <tr>\n",
       "      <th>3833</th>\n",
       "      <td>D</td>\n",
       "      <td>mr. chairman , i demand a recorded vote .</td>\n",
       "      <td>mr chairman demand recorded vote</td>\n",
       "    </tr>\n",
       "    <tr>\n",
       "      <th>3834</th>\n",
       "      <td>R</td>\n",
       "      <td>mr. speaker , i rise in support of s. 5 , the ...</td>\n",
       "      <td>mr speaker rise in support of the class action...</td>\n",
       "    </tr>\n",
       "    <tr>\n",
       "      <th>3835</th>\n",
       "      <td>R</td>\n",
       "      <td>i appreciate the gentleman yielding to me , mr...</td>\n",
       "      <td>i appreciate the gentleman yielding to me mr s...</td>\n",
       "    </tr>\n",
       "    <tr>\n",
       "      <th>3836</th>\n",
       "      <td>R</td>\n",
       "      <td>mr. chairman , i move to strike the last word ...</td>\n",
       "      <td>mr chairman move to strike the last word do so...</td>\n",
       "    </tr>\n",
       "    <tr>\n",
       "      <th>3837</th>\n",
       "      <td>D</td>\n",
       "      <td>mr. speaker , i rise in opposition to h. j. re...</td>\n",
       "      <td>mr speaker rise in opposition to j res which w...</td>\n",
       "    </tr>\n",
       "  </tbody>\n",
       "</table>\n",
       "<p>3838 rows × 3 columns</p>\n",
       "</div>"
      ],
      "text/plain": [
       "     political_affiliation                                        speech_text  \\\n",
       "0                        R  mr. chairman , i am supportive , but my unders...   \n",
       "1                        D  mr. chairman , i yield 5 minutes to the gentle...   \n",
       "2                        R  mr. speaker , i yield myself 2 minutes .  mr. ...   \n",
       "3                        D  mr. speaker , the work of this subcommittee ha...   \n",
       "4                        D  mr. speaker , reclaiming my time , i thank aga...   \n",
       "...                    ...                                                ...   \n",
       "3833                     D        mr. chairman , i demand a recorded vote .     \n",
       "3834                     R  mr. speaker , i rise in support of s. 5 , the ...   \n",
       "3835                     R  i appreciate the gentleman yielding to me , mr...   \n",
       "3836                     R  mr. chairman , i move to strike the last word ...   \n",
       "3837                     D  mr. speaker , i rise in opposition to h. j. re...   \n",
       "\n",
       "                                      speech_text_clean  \n",
       "0     mr chairman am supportive but my understanding...  \n",
       "1     mr chairman yield minutes to the gentlewoman f...  \n",
       "2     mr speaker yield myself minutes mr speaker jus...  \n",
       "3     mr speaker the work of this subcommittee has a...  \n",
       "4     mr speaker reclaiming my time thank again the ...  \n",
       "...                                                 ...  \n",
       "3833                  mr chairman demand recorded vote   \n",
       "3834  mr speaker rise in support of the class action...  \n",
       "3835  i appreciate the gentleman yielding to me mr s...  \n",
       "3836  mr chairman move to strike the last word do so...  \n",
       "3837  mr speaker rise in opposition to j res which w...  \n",
       "\n",
       "[3838 rows x 3 columns]"
      ]
     },
     "execution_count": 8,
     "metadata": {},
     "output_type": "execute_result"
    }
   ],
   "source": [
    "df[\"speech_text_clean\"] = df.apply(\n",
    "    lambda row: preprocess_text(row[\"speech_text\"]), axis=1\n",
    ")\n",
    "df"
   ]
  },
  {
   "cell_type": "code",
   "execution_count": 9,
   "metadata": {},
   "outputs": [
    {
     "data": {
      "text/html": [
       "<div>\n",
       "<style scoped>\n",
       "    .dataframe tbody tr th:only-of-type {\n",
       "        vertical-align: middle;\n",
       "    }\n",
       "\n",
       "    .dataframe tbody tr th {\n",
       "        vertical-align: top;\n",
       "    }\n",
       "\n",
       "    .dataframe thead th {\n",
       "        text-align: right;\n",
       "    }\n",
       "</style>\n",
       "<table border=\"1\" class=\"dataframe\">\n",
       "  <thead>\n",
       "    <tr style=\"text-align: right;\">\n",
       "      <th></th>\n",
       "      <th>political_affiliation</th>\n",
       "      <th>speech_text</th>\n",
       "      <th>speech_text_clean</th>\n",
       "      <th>republican</th>\n",
       "    </tr>\n",
       "  </thead>\n",
       "  <tbody>\n",
       "    <tr>\n",
       "      <th>0</th>\n",
       "      <td>R</td>\n",
       "      <td>mr. chairman , i am supportive , but my unders...</td>\n",
       "      <td>mr chairman am supportive but my understanding...</td>\n",
       "      <td>1</td>\n",
       "    </tr>\n",
       "    <tr>\n",
       "      <th>1</th>\n",
       "      <td>D</td>\n",
       "      <td>mr. chairman , i yield 5 minutes to the gentle...</td>\n",
       "      <td>mr chairman yield minutes to the gentlewoman f...</td>\n",
       "      <td>0</td>\n",
       "    </tr>\n",
       "    <tr>\n",
       "      <th>2</th>\n",
       "      <td>R</td>\n",
       "      <td>mr. speaker , i yield myself 2 minutes .  mr. ...</td>\n",
       "      <td>mr speaker yield myself minutes mr speaker jus...</td>\n",
       "      <td>1</td>\n",
       "    </tr>\n",
       "    <tr>\n",
       "      <th>3</th>\n",
       "      <td>D</td>\n",
       "      <td>mr. speaker , the work of this subcommittee ha...</td>\n",
       "      <td>mr speaker the work of this subcommittee has a...</td>\n",
       "      <td>0</td>\n",
       "    </tr>\n",
       "    <tr>\n",
       "      <th>4</th>\n",
       "      <td>D</td>\n",
       "      <td>mr. speaker , reclaiming my time , i thank aga...</td>\n",
       "      <td>mr speaker reclaiming my time thank again the ...</td>\n",
       "      <td>0</td>\n",
       "    </tr>\n",
       "    <tr>\n",
       "      <th>...</th>\n",
       "      <td>...</td>\n",
       "      <td>...</td>\n",
       "      <td>...</td>\n",
       "      <td>...</td>\n",
       "    </tr>\n",
       "    <tr>\n",
       "      <th>3833</th>\n",
       "      <td>D</td>\n",
       "      <td>mr. chairman , i demand a recorded vote .</td>\n",
       "      <td>mr chairman demand recorded vote</td>\n",
       "      <td>0</td>\n",
       "    </tr>\n",
       "    <tr>\n",
       "      <th>3834</th>\n",
       "      <td>R</td>\n",
       "      <td>mr. speaker , i rise in support of s. 5 , the ...</td>\n",
       "      <td>mr speaker rise in support of the class action...</td>\n",
       "      <td>1</td>\n",
       "    </tr>\n",
       "    <tr>\n",
       "      <th>3835</th>\n",
       "      <td>R</td>\n",
       "      <td>i appreciate the gentleman yielding to me , mr...</td>\n",
       "      <td>i appreciate the gentleman yielding to me mr s...</td>\n",
       "      <td>1</td>\n",
       "    </tr>\n",
       "    <tr>\n",
       "      <th>3836</th>\n",
       "      <td>R</td>\n",
       "      <td>mr. chairman , i move to strike the last word ...</td>\n",
       "      <td>mr chairman move to strike the last word do so...</td>\n",
       "      <td>1</td>\n",
       "    </tr>\n",
       "    <tr>\n",
       "      <th>3837</th>\n",
       "      <td>D</td>\n",
       "      <td>mr. speaker , i rise in opposition to h. j. re...</td>\n",
       "      <td>mr speaker rise in opposition to j res which w...</td>\n",
       "      <td>0</td>\n",
       "    </tr>\n",
       "  </tbody>\n",
       "</table>\n",
       "<p>3838 rows × 4 columns</p>\n",
       "</div>"
      ],
      "text/plain": [
       "     political_affiliation                                        speech_text  \\\n",
       "0                        R  mr. chairman , i am supportive , but my unders...   \n",
       "1                        D  mr. chairman , i yield 5 minutes to the gentle...   \n",
       "2                        R  mr. speaker , i yield myself 2 minutes .  mr. ...   \n",
       "3                        D  mr. speaker , the work of this subcommittee ha...   \n",
       "4                        D  mr. speaker , reclaiming my time , i thank aga...   \n",
       "...                    ...                                                ...   \n",
       "3833                     D        mr. chairman , i demand a recorded vote .     \n",
       "3834                     R  mr. speaker , i rise in support of s. 5 , the ...   \n",
       "3835                     R  i appreciate the gentleman yielding to me , mr...   \n",
       "3836                     R  mr. chairman , i move to strike the last word ...   \n",
       "3837                     D  mr. speaker , i rise in opposition to h. j. re...   \n",
       "\n",
       "                                      speech_text_clean  republican  \n",
       "0     mr chairman am supportive but my understanding...           1  \n",
       "1     mr chairman yield minutes to the gentlewoman f...           0  \n",
       "2     mr speaker yield myself minutes mr speaker jus...           1  \n",
       "3     mr speaker the work of this subcommittee has a...           0  \n",
       "4     mr speaker reclaiming my time thank again the ...           0  \n",
       "...                                                 ...         ...  \n",
       "3833                  mr chairman demand recorded vote            0  \n",
       "3834  mr speaker rise in support of the class action...           1  \n",
       "3835  i appreciate the gentleman yielding to me mr s...           1  \n",
       "3836  mr chairman move to strike the last word do so...           1  \n",
       "3837  mr speaker rise in opposition to j res which w...           0  \n",
       "\n",
       "[3838 rows x 4 columns]"
      ]
     },
     "execution_count": 9,
     "metadata": {},
     "output_type": "execute_result"
    }
   ],
   "source": [
    "# creating a binary label for classification\n",
    "# only 19 speeches for independent candidates, so clubbing them with republicans\n",
    "df[\"republican\"] = df[\"political_affiliation\"].replace([\"R\", \"D\"], [1, 0])\n",
    "df"
   ]
  },
  {
   "cell_type": "code",
   "execution_count": 10,
   "metadata": {},
   "outputs": [],
   "source": [
    "X = df[\"speech_text_clean\"]  # input\n",
    "y = df[\"republican\"]  # labels\n",
    "\n",
    "# 90/10 train-test split\n",
    "X_train, X_test, y_train, y_test = train_test_split(\n",
    "    X, y, test_size=0.10, random_state=100\n",
    ")"
   ]
  },
  {
   "cell_type": "code",
   "execution_count": 11,
   "metadata": {},
   "outputs": [],
   "source": [
    "# Preparing the embedding layer\n",
    "tokenizer = Tokenizer(num_words=5000)\n",
    "tokenizer.fit_on_texts(X_train)\n",
    "\n",
    "X_train = tokenizer.texts_to_sequences(X_train)\n",
    "X_test = tokenizer.texts_to_sequences(X_test)"
   ]
  },
  {
   "cell_type": "code",
   "execution_count": 12,
   "metadata": {},
   "outputs": [],
   "source": [
    "# Find the vocabulary size and then perform padding on both train and test set\n",
    "vocab_size = len(tokenizer.word_index) + 1\n",
    "maxlen = 100\n",
    "\n",
    "X_train = pad_sequences(X_train, padding=\"post\", maxlen=maxlen)\n",
    "X_test = pad_sequences(X_test, padding=\"post\", maxlen=maxlen)"
   ]
  },
  {
   "cell_type": "code",
   "execution_count": 13,
   "metadata": {},
   "outputs": [],
   "source": [
    "# load the GloVe word embeddings and create a dictionary\n",
    "embeddings_dictionary = dict()\n",
    "glove_file = open(\n",
    "    \"/home/saurabh/Everything/PhD/Courses/9. Autumn 2020/CS 230/cs230/glove/glove.6B.100d.txt\",\n",
    "    encoding=\"utf8\",\n",
    ")\n",
    "\n",
    "for line in glove_file:\n",
    "    records = line.split()\n",
    "    word = records[0]\n",
    "    vector_dimensions = asarray(records[1:], dtype=\"float32\")\n",
    "    embeddings_dictionary[word] = vector_dimensions\n",
    "glove_file.close()"
   ]
  },
  {
   "cell_type": "code",
   "execution_count": 14,
   "metadata": {},
   "outputs": [],
   "source": [
    "# create embedding matrix\n",
    "embedding_matrix = zeros((vocab_size, 100))\n",
    "for word, index in tokenizer.word_index.items():\n",
    "    embedding_vector = embeddings_dictionary.get(word)\n",
    "    if embedding_vector is not None:\n",
    "        embedding_matrix[index] = embedding_vector"
   ]
  },
  {
   "cell_type": "markdown",
   "metadata": {},
   "source": [
    "## Models\n",
    "### Model 1: Simple Neural Network"
   ]
  },
  {
   "cell_type": "code",
   "execution_count": 15,
   "metadata": {},
   "outputs": [
    {
     "name": "stdout",
     "output_type": "stream",
     "text": [
      "Model: \"sequential\"\n",
      "_________________________________________________________________\n",
      "Layer (type)                 Output Shape              Param #   \n",
      "=================================================================\n",
      "embedding (Embedding)        (None, 100, 100)          1998400   \n",
      "_________________________________________________________________\n",
      "flatten (Flatten)            (None, 10000)             0         \n",
      "_________________________________________________________________\n",
      "dense (Dense)                (None, 1)                 10001     \n",
      "=================================================================\n",
      "Total params: 2,008,401\n",
      "Trainable params: 10,001\n",
      "Non-trainable params: 1,998,400\n",
      "_________________________________________________________________\n"
     ]
    }
   ],
   "source": [
    "# create a sequential model\n",
    "model = Sequential()\n",
    "# create and add embedding layer\n",
    "embedding_layer = Embedding(\n",
    "    vocab_size, 100, weights=[embedding_matrix], input_length=maxlen, trainable=False\n",
    ")\n",
    "model.add(embedding_layer)\n",
    "# adding dense layer with sigmoid activation\n",
    "model.add(Flatten())\n",
    "model.add(Dense(1, activation=\"sigmoid\"))\n",
    "\n",
    "# compile model with adam optimizer\n",
    "model.compile(optimizer=\"adam\", loss=\"binary_crossentropy\", metrics=[\"acc\"])\n",
    "model.summary()"
   ]
  },
  {
   "cell_type": "code",
   "execution_count": 16,
   "metadata": {},
   "outputs": [
    {
     "name": "stdout",
     "output_type": "stream",
     "text": [
      "Epoch 1/20\n",
      "25/25 [==============================] - 0s 10ms/step - loss: 0.7351 - acc: 0.5290 - val_loss: 0.6961 - val_acc: 0.5347\n",
      "Epoch 2/20\n",
      "25/25 [==============================] - 0s 5ms/step - loss: 0.6001 - acc: 0.6715 - val_loss: 0.6952 - val_acc: 0.5347\n",
      "Epoch 3/20\n",
      "25/25 [==============================] - 0s 5ms/step - loss: 0.5451 - acc: 0.7220 - val_loss: 0.6866 - val_acc: 0.5751\n",
      "Epoch 4/20\n",
      "25/25 [==============================] - 0s 5ms/step - loss: 0.4861 - acc: 0.8024 - val_loss: 0.7037 - val_acc: 0.5751\n",
      "Epoch 5/20\n",
      "25/25 [==============================] - 0s 5ms/step - loss: 0.4508 - acc: 0.8279 - val_loss: 0.7000 - val_acc: 0.5983\n",
      "Epoch 6/20\n",
      "25/25 [==============================] - 0s 5ms/step - loss: 0.4160 - acc: 0.8562 - val_loss: 0.7315 - val_acc: 0.5896\n",
      "Epoch 7/20\n",
      "25/25 [==============================] - 0s 5ms/step - loss: 0.3937 - acc: 0.8607 - val_loss: 0.7165 - val_acc: 0.5925\n",
      "Epoch 8/20\n",
      "25/25 [==============================] - 0s 5ms/step - loss: 0.3663 - acc: 0.8826 - val_loss: 0.7225 - val_acc: 0.6069\n",
      "Epoch 9/20\n",
      "25/25 [==============================] - 0s 5ms/step - loss: 0.3475 - acc: 0.8896 - val_loss: 0.7342 - val_acc: 0.6040\n",
      "Epoch 10/20\n",
      "25/25 [==============================] - 0s 6ms/step - loss: 0.3353 - acc: 0.8912 - val_loss: 0.7499 - val_acc: 0.6012\n",
      "Epoch 11/20\n",
      "25/25 [==============================] - 0s 6ms/step - loss: 0.3167 - acc: 0.8993 - val_loss: 0.7632 - val_acc: 0.6040\n",
      "Epoch 12/20\n",
      "25/25 [==============================] - 0s 5ms/step - loss: 0.3045 - acc: 0.9032 - val_loss: 0.7683 - val_acc: 0.5983\n",
      "Epoch 13/20\n",
      "25/25 [==============================] - 0s 5ms/step - loss: 0.2915 - acc: 0.9102 - val_loss: 0.7688 - val_acc: 0.5896\n",
      "Epoch 14/20\n",
      "25/25 [==============================] - 0s 6ms/step - loss: 0.2803 - acc: 0.9102 - val_loss: 0.7752 - val_acc: 0.5983\n",
      "Epoch 15/20\n",
      "25/25 [==============================] - 0s 5ms/step - loss: 0.2697 - acc: 0.9141 - val_loss: 0.7885 - val_acc: 0.5954\n",
      "Epoch 16/20\n",
      "25/25 [==============================] - 0s 5ms/step - loss: 0.2631 - acc: 0.9151 - val_loss: 0.8049 - val_acc: 0.6040\n",
      "Epoch 17/20\n",
      "25/25 [==============================] - 0s 6ms/step - loss: 0.2557 - acc: 0.9167 - val_loss: 0.8005 - val_acc: 0.6127\n",
      "Epoch 18/20\n",
      "25/25 [==============================] - 0s 6ms/step - loss: 0.2462 - acc: 0.9218 - val_loss: 0.8117 - val_acc: 0.6040\n",
      "Epoch 19/20\n",
      "25/25 [==============================] - 0s 5ms/step - loss: 0.2401 - acc: 0.9228 - val_loss: 0.8206 - val_acc: 0.6098\n",
      "Epoch 20/20\n",
      "25/25 [==============================] - 0s 5ms/step - loss: 0.2340 - acc: 0.9237 - val_loss: 0.8268 - val_acc: 0.6069\n"
     ]
    }
   ],
   "source": [
    "history = model.fit(\n",
    "    X_train, y_train, batch_size=128, epochs=20, verbose=1, validation_split=0.1\n",
    ")"
   ]
  },
  {
   "cell_type": "code",
   "execution_count": 17,
   "metadata": {},
   "outputs": [
    {
     "name": "stdout",
     "output_type": "stream",
     "text": [
      "12/12 [==============================] - 0s 2ms/step - loss: 0.7806 - acc: 0.6042\n",
      "Test Accuracy: 0.6041666865348816\n"
     ]
    }
   ],
   "source": [
    "score = model.evaluate(X_test, y_test, verbose=1)\n",
    "print(\"Test Accuracy:\", score[1])"
   ]
  },
  {
   "cell_type": "code",
   "execution_count": 18,
   "metadata": {},
   "outputs": [
    {
     "data": {
      "text/plain": [
       "<matplotlib.legend.Legend at 0x7f9a30514b80>"
      ]
     },
     "execution_count": 18,
     "metadata": {},
     "output_type": "execute_result"
    },
    {
     "data": {
      "image/png": "[encoded data removed]",
      "text/plain": [
       "<Figure size 432x288 with 1 Axes>"
      ]
     },
     "metadata": {},
     "output_type": "display_data"
    }
   ],
   "source": [
    "plt.title(\"model accuracy\")\n",
    "plt.ylabel(\"accuracy\")\n",
    "plt.xlabel(\"epoch\")\n",
    "plt.plot(history.history[\"acc\"])\n",
    "plt.plot(history.history[\"val_acc\"])\n",
    "plt.legend([\"train\", \"test\"], loc=\"upper left\")"
   ]
  },
  {
   "cell_type": "markdown",
   "metadata": {},
   "source": [
    "### Model 2: Convolutional Neural Net"
   ]
  },
  {
   "cell_type": "code",
   "execution_count": 19,
   "metadata": {},
   "outputs": [
    {
     "name": "stdout",
     "output_type": "stream",
     "text": [
      "Model: \"sequential_1\"\n",
      "_________________________________________________________________\n",
      "Layer (type)                 Output Shape              Param #   \n",
      "=================================================================\n",
      "embedding_1 (Embedding)      (None, 100, 100)          1998400   \n",
      "_________________________________________________________________\n",
      "conv1d (Conv1D)              (None, 96, 128)           64128     \n",
      "_________________________________________________________________\n",
      "global_max_pooling1d (Global (None, 128)               0         \n",
      "_________________________________________________________________\n",
      "dense_1 (Dense)              (None, 1)                 129       \n",
      "=================================================================\n",
      "Total params: 2,062,657\n",
      "Trainable params: 64,257\n",
      "Non-trainable params: 1,998,400\n",
      "_________________________________________________________________\n"
     ]
    }
   ],
   "source": [
    "model = Sequential()\n",
    "\n",
    "embedding_layer = Embedding(\n",
    "    vocab_size, 100, weights=[embedding_matrix], input_length=maxlen, trainable=False\n",
    ")\n",
    "model.add(embedding_layer)\n",
    "\n",
    "model.add(Conv1D(128, 5, activation=\"relu\"))\n",
    "model.add(GlobalMaxPooling1D())\n",
    "model.add(Dense(1, activation=\"sigmoid\"))\n",
    "model.compile(optimizer=\"adam\", loss=\"binary_crossentropy\", metrics=[\"acc\"])\n",
    "model.summary()"
   ]
  },
  {
   "cell_type": "code",
   "execution_count": 20,
   "metadata": {},
   "outputs": [
    {
     "name": "stdout",
     "output_type": "stream",
     "text": [
      "Epoch 1/20\n",
      "25/25 [==============================] - 2s 66ms/step - loss: 0.6928 - acc: 0.5354 - val_loss: 0.6509 - val_acc: 0.6127\n",
      "Epoch 2/20\n",
      "25/25 [==============================] - 2s 71ms/step - loss: 0.5976 - acc: 0.6750 - val_loss: 0.6478 - val_acc: 0.6069\n",
      "Epoch 3/20\n",
      "25/25 [==============================] - 2s 83ms/step - loss: 0.5411 - acc: 0.7757 - val_loss: 0.6149 - val_acc: 0.6676\n",
      "Epoch 4/20\n",
      "25/25 [==============================] - 2s 73ms/step - loss: 0.4977 - acc: 0.8292 - val_loss: 0.6087 - val_acc: 0.6618\n",
      "Epoch 5/20\n",
      "25/25 [==============================] - 2s 61ms/step - loss: 0.4621 - acc: 0.8526 - val_loss: 0.5995 - val_acc: 0.6532\n",
      "Epoch 6/20\n",
      "25/25 [==============================] - 2s 60ms/step - loss: 0.4391 - acc: 0.8588 - val_loss: 0.6227 - val_acc: 0.6301\n",
      "Epoch 7/20\n",
      "25/25 [==============================] - 2s 74ms/step - loss: 0.4061 - acc: 0.8726 - val_loss: 0.5937 - val_acc: 0.6647\n",
      "Epoch 8/20\n",
      "25/25 [==============================] - 2s 63ms/step - loss: 0.3760 - acc: 0.8993 - val_loss: 0.6005 - val_acc: 0.6647\n",
      "Epoch 9/20\n",
      "25/25 [==============================] - 2s 65ms/step - loss: 0.3480 - acc: 0.9141 - val_loss: 0.5766 - val_acc: 0.6965\n",
      "Epoch 10/20\n",
      "25/25 [==============================] - 2s 62ms/step - loss: 0.3276 - acc: 0.9286 - val_loss: 0.5760 - val_acc: 0.6965\n",
      "Epoch 11/20\n",
      "25/25 [==============================] - 2s 62ms/step - loss: 0.3017 - acc: 0.9347 - val_loss: 0.5660 - val_acc: 0.7081\n",
      "Epoch 12/20\n",
      "25/25 [==============================] - 2s 63ms/step - loss: 0.2767 - acc: 0.9492 - val_loss: 0.5739 - val_acc: 0.6647\n",
      "Epoch 13/20\n",
      "25/25 [==============================] - 2s 63ms/step - loss: 0.2573 - acc: 0.9482 - val_loss: 0.5662 - val_acc: 0.7052\n",
      "Epoch 14/20\n",
      "25/25 [==============================] - 2s 64ms/step - loss: 0.2388 - acc: 0.9498 - val_loss: 0.5628 - val_acc: 0.7081\n",
      "Epoch 15/20\n",
      "25/25 [==============================] - 2s 65ms/step - loss: 0.2262 - acc: 0.9508 - val_loss: 0.5621 - val_acc: 0.6908\n",
      "Epoch 16/20\n",
      "25/25 [==============================] - 2s 84ms/step - loss: 0.2122 - acc: 0.9469 - val_loss: 0.5662 - val_acc: 0.6965\n",
      "Epoch 17/20\n",
      "25/25 [==============================] - 2s 72ms/step - loss: 0.1973 - acc: 0.9492 - val_loss: 0.6586 - val_acc: 0.6503\n",
      "Epoch 18/20\n",
      "25/25 [==============================] - 2s 65ms/step - loss: 0.2003 - acc: 0.9524 - val_loss: 0.5813 - val_acc: 0.6936\n",
      "Epoch 19/20\n",
      "25/25 [==============================] - 2s 65ms/step - loss: 0.1864 - acc: 0.9569 - val_loss: 0.5769 - val_acc: 0.6936\n",
      "Epoch 20/20\n",
      "25/25 [==============================] - 2s 65ms/step - loss: 0.1775 - acc: 0.9543 - val_loss: 0.5722 - val_acc: 0.6994\n"
     ]
    }
   ],
   "source": [
    "history = model.fit(\n",
    "    X_train, y_train, batch_size=128, epochs=20, verbose=1, validation_split=0.1\n",
    ")"
   ]
  },
  {
   "cell_type": "code",
   "execution_count": 21,
   "metadata": {},
   "outputs": [
    {
     "name": "stdout",
     "output_type": "stream",
     "text": [
      "12/12 [==============================] - 0s 7ms/step - loss: 0.5713 - acc: 0.7083\n"
     ]
    }
   ],
   "source": [
    "score = model.evaluate(X_test, y_test, verbose=1)"
   ]
  },
  {
   "cell_type": "code",
   "execution_count": 22,
   "metadata": {},
   "outputs": [
    {
     "data": {
      "text/plain": [
       "<matplotlib.legend.Legend at 0x7f9a302b5250>"
      ]
     },
     "execution_count": 22,
     "metadata": {},
     "output_type": "execute_result"
    },
    {
     "data": {
      "image/png": "[encoded data removed]",
      "text/plain": [
       "<Figure size 432x288 with 1 Axes>"
      ]
     },
     "metadata": {},
     "output_type": "display_data"
    }
   ],
   "source": [
    "plt.title(\"model accuracy\")\n",
    "plt.ylabel(\"accuracy\")\n",
    "plt.xlabel(\"epoch\")\n",
    "plt.plot(history.history[\"acc\"])\n",
    "plt.plot(history.history[\"val_acc\"])\n",
    "plt.legend([\"train\", \"test\"], loc=\"upper left\")"
   ]
  },
  {
   "cell_type": "markdown",
   "metadata": {},
   "source": [
    "### Model 3: LSTM-RNN"
   ]
  },
  {
   "cell_type": "code",
   "execution_count": 23,
   "metadata": {},
   "outputs": [
    {
     "name": "stdout",
     "output_type": "stream",
     "text": [
      "Model: \"sequential_2\"\n",
      "_________________________________________________________________\n",
      "Layer (type)                 Output Shape              Param #   \n",
      "=================================================================\n",
      "embedding_2 (Embedding)      (None, 100, 100)          1998400   \n",
      "_________________________________________________________________\n",
      "lstm (LSTM)                  (None, 128)               117248    \n",
      "_________________________________________________________________\n",
      "dense_2 (Dense)              (None, 1)                 129       \n",
      "=================================================================\n",
      "Total params: 2,115,777\n",
      "Trainable params: 117,377\n",
      "Non-trainable params: 1,998,400\n",
      "_________________________________________________________________\n"
     ]
    }
   ],
   "source": [
    "model = Sequential()\n",
    "embedding_layer = Embedding(\n",
    "    vocab_size, 100, weights=[embedding_matrix], input_length=maxlen, trainable=False\n",
    ")\n",
    "model.add(embedding_layer)\n",
    "model.add(LSTM(128))\n",
    "model.add(Dense(1, activation=\"sigmoid\"))\n",
    "model.compile(optimizer=\"adam\", loss=\"binary_crossentropy\", metrics=[\"acc\"])\n",
    "model.summary()"
   ]
  },
  {
   "cell_type": "code",
   "execution_count": 24,
   "metadata": {},
   "outputs": [
    {
     "name": "stdout",
     "output_type": "stream",
     "text": [
      "Epoch 1/40\n",
      "25/25 [==============================] - 7s 272ms/step - loss: 0.6987 - acc: 0.5142 - val_loss: 0.6928 - val_acc: 0.5434\n",
      "Epoch 2/40\n",
      "25/25 [==============================] - 6s 239ms/step - loss: 0.6806 - acc: 0.5573 - val_loss: 0.6993 - val_acc: 0.5347\n",
      "Epoch 3/40\n",
      "25/25 [==============================] - 5s 217ms/step - loss: 0.6724 - acc: 0.5730 - val_loss: 0.6860 - val_acc: 0.5549\n",
      "Epoch 4/40\n",
      "25/25 [==============================] - 6s 223ms/step - loss: 0.6620 - acc: 0.5843 - val_loss: 0.6796 - val_acc: 0.5636\n",
      "Epoch 5/40\n",
      "25/25 [==============================] - 6s 231ms/step - loss: 0.6422 - acc: 0.6194 - val_loss: 0.6685 - val_acc: 0.5694\n",
      "Epoch 6/40\n",
      "25/25 [==============================] - 5s 214ms/step - loss: 0.6362 - acc: 0.6216 - val_loss: 0.6757 - val_acc: 0.5751\n",
      "Epoch 7/40\n",
      "25/25 [==============================] - 5s 216ms/step - loss: 0.6113 - acc: 0.6451 - val_loss: 0.6687 - val_acc: 0.5983\n",
      "Epoch 8/40\n",
      "25/25 [==============================] - 5s 215ms/step - loss: 0.6123 - acc: 0.6548 - val_loss: 0.6863 - val_acc: 0.5809\n",
      "Epoch 9/40\n",
      "25/25 [==============================] - 6s 221ms/step - loss: 0.5997 - acc: 0.6612 - val_loss: 0.6660 - val_acc: 0.6127\n",
      "Epoch 10/40\n",
      "25/25 [==============================] - 6s 249ms/step - loss: 0.5774 - acc: 0.6834 - val_loss: 0.7104 - val_acc: 0.5549\n",
      "Epoch 11/40\n",
      "25/25 [==============================] - 6s 246ms/step - loss: 0.6000 - acc: 0.6486 - val_loss: 0.7094 - val_acc: 0.6040\n",
      "Epoch 12/40\n",
      "25/25 [==============================] - 6s 249ms/step - loss: 0.5738 - acc: 0.6654 - val_loss: 0.6921 - val_acc: 0.5867\n",
      "Epoch 13/40\n",
      "25/25 [==============================] - 6s 231ms/step - loss: 0.5504 - acc: 0.6815 - val_loss: 0.7489 - val_acc: 0.5780\n",
      "Epoch 14/40\n",
      "25/25 [==============================] - 6s 240ms/step - loss: 0.5283 - acc: 0.6892 - val_loss: 0.7500 - val_acc: 0.5954\n",
      "Epoch 15/40\n",
      "25/25 [==============================] - 7s 276ms/step - loss: 0.5119 - acc: 0.7046 - val_loss: 0.7697 - val_acc: 0.5694\n",
      "Epoch 16/40\n",
      "25/25 [==============================] - 6s 251ms/step - loss: 0.4882 - acc: 0.7169 - val_loss: 0.7720 - val_acc: 0.5954\n",
      "Epoch 17/40\n",
      "25/25 [==============================] - 7s 268ms/step - loss: 0.4647 - acc: 0.7252 - val_loss: 0.8238 - val_acc: 0.5751\n",
      "Epoch 18/40\n",
      "25/25 [==============================] - 6s 248ms/step - loss: 0.4395 - acc: 0.7458 - val_loss: 0.8272 - val_acc: 0.5780\n",
      "Epoch 19/40\n",
      "25/25 [==============================] - 6s 237ms/step - loss: 0.4275 - acc: 0.7490 - val_loss: 0.8636 - val_acc: 0.5809\n",
      "Epoch 20/40\n",
      "25/25 [==============================] - 5s 216ms/step - loss: 0.4153 - acc: 0.7452 - val_loss: 0.9016 - val_acc: 0.6040\n",
      "Epoch 21/40\n",
      "25/25 [==============================] - 5s 215ms/step - loss: 0.4111 - acc: 0.7571 - val_loss: 0.9179 - val_acc: 0.5751\n",
      "Epoch 22/40\n",
      "25/25 [==============================] - 5s 215ms/step - loss: 0.3804 - acc: 0.7722 - val_loss: 1.0032 - val_acc: 0.5636\n",
      "Epoch 23/40\n",
      "25/25 [==============================] - 5s 218ms/step - loss: 0.3652 - acc: 0.7831 - val_loss: 0.9555 - val_acc: 0.6040\n",
      "Epoch 24/40\n",
      "25/25 [==============================] - 5s 215ms/step - loss: 0.3365 - acc: 0.7915 - val_loss: 1.0563 - val_acc: 0.6098\n",
      "Epoch 25/40\n",
      "25/25 [==============================] - 5s 217ms/step - loss: 0.3410 - acc: 0.8021 - val_loss: 1.0985 - val_acc: 0.5607\n",
      "Epoch 26/40\n",
      "25/25 [==============================] - 5s 215ms/step - loss: 0.3144 - acc: 0.8218 - val_loss: 1.0815 - val_acc: 0.5751\n",
      "Epoch 27/40\n",
      "25/25 [==============================] - 6s 237ms/step - loss: 0.3573 - acc: 0.7899 - val_loss: 1.0809 - val_acc: 0.5087\n",
      "Epoch 28/40\n",
      "25/25 [==============================] - 6s 226ms/step - loss: 0.3579 - acc: 0.7802 - val_loss: 1.0391 - val_acc: 0.5636\n",
      "Epoch 29/40\n",
      "25/25 [==============================] - 6s 228ms/step - loss: 0.3097 - acc: 0.8127 - val_loss: 1.1736 - val_acc: 0.5867\n",
      "Epoch 30/40\n",
      "25/25 [==============================] - 5s 218ms/step - loss: 0.3106 - acc: 0.8005 - val_loss: 1.1164 - val_acc: 0.5983\n",
      "Epoch 31/40\n",
      "25/25 [==============================] - 6s 222ms/step - loss: 0.2933 - acc: 0.8156 - val_loss: 1.1319 - val_acc: 0.5954\n",
      "Epoch 32/40\n",
      "25/25 [==============================] - 5s 219ms/step - loss: 0.3004 - acc: 0.8169 - val_loss: 1.1136 - val_acc: 0.5780\n",
      "Epoch 33/40\n",
      "25/25 [==============================] - 6s 225ms/step - loss: 0.3057 - acc: 0.8172 - val_loss: 1.0278 - val_acc: 0.6012\n",
      "Epoch 34/40\n",
      "25/25 [==============================] - 6s 225ms/step - loss: 0.2841 - acc: 0.8263 - val_loss: 1.1802 - val_acc: 0.6012\n",
      "Epoch 35/40\n",
      "25/25 [==============================] - 6s 240ms/step - loss: 0.2682 - acc: 0.8507 - val_loss: 1.2046 - val_acc: 0.6069\n",
      "Epoch 36/40\n",
      "25/25 [==============================] - 5s 220ms/step - loss: 0.2678 - acc: 0.8475 - val_loss: 1.2191 - val_acc: 0.6243\n",
      "Epoch 37/40\n",
      "25/25 [==============================] - 6s 221ms/step - loss: 0.2816 - acc: 0.8433 - val_loss: 1.2082 - val_acc: 0.6127\n",
      "Epoch 38/40\n",
      "25/25 [==============================] - 6s 221ms/step - loss: 0.2532 - acc: 0.8681 - val_loss: 1.2554 - val_acc: 0.5838\n",
      "Epoch 39/40\n",
      "25/25 [==============================] - 6s 232ms/step - loss: 0.2343 - acc: 0.8838 - val_loss: 1.1351 - val_acc: 0.6156\n",
      "Epoch 40/40\n",
      "25/25 [==============================] - 6s 229ms/step - loss: 0.2320 - acc: 0.8806 - val_loss: 1.2261 - val_acc: 0.6012\n"
     ]
    }
   ],
   "source": [
    "history = model.fit(\n",
    "    X_train, y_train, batch_size=128, epochs=40, verbose=1, validation_split=0.1\n",
    ")"
   ]
  },
  {
   "cell_type": "code",
   "execution_count": 25,
   "metadata": {},
   "outputs": [
    {
     "name": "stdout",
     "output_type": "stream",
     "text": [
      "12/12 [==============================] - 0s 33ms/step - loss: 1.1844 - acc: 0.6484\n"
     ]
    }
   ],
   "source": [
    "score = model.evaluate(X_test, y_test, verbose=1)"
   ]
  },
  {
   "cell_type": "code",
   "execution_count": 26,
   "metadata": {},
   "outputs": [
    {
     "data": {
      "text/plain": [
       "<matplotlib.legend.Legend at 0x7f99fc573a60>"
      ]
     },
     "execution_count": 26,
     "metadata": {},
     "output_type": "execute_result"
    },
    {
     "data": {
      "image/png": "[encoded data removed]",
      "text/plain": [
       "<Figure size 432x288 with 1 Axes>"
      ]
     },
     "metadata": {},
     "output_type": "display_data"
    }
   ],
   "source": [
    "plt.title(\"model accuracy\")\n",
    "plt.ylabel(\"accuracy\")\n",
    "plt.xlabel(\"epoch\")\n",
    "plt.plot(history.history[\"acc\"])\n",
    "plt.plot(history.history[\"val_acc\"])\n",
    "plt.legend([\"train\", \"test\"], loc=\"upper left\")"
   ]
  },
  {
   "cell_type": "code",
   "execution_count": null,
   "metadata": {},
   "outputs": [],
   "source": []
  }
 ],
 "metadata": {
  "colab": {
   "authorship_tag": "ABX9TyMwyzRqhoO6Bn2mZJpcW3yN",
   "collapsed_sections": [],
   "name": "cs230project_wrangle.ipynb",
   "provenance": []
  },
  "kernelspec": {
   "display_name": "Python 3",
   "language": "python",
   "name": "python3"
  },
  "language_info": {
   "codemirror_mode": {
    "name": "ipython",
    "version": 3
   },
   "file_extension": ".py",
   "mimetype": "text/x-python",
   "name": "python",
   "nbconvert_exporter": "python",
   "pygments_lexer": "ipython3",
   "version": "3.8.5"
  }
 },
 "nbformat": 4,
 "nbformat_minor": 4
}
