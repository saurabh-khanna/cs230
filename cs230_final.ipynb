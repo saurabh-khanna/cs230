{
 "cells": [
  {
   "cell_type": "code",
   "execution_count": 1,
   "metadata": {
    "id": "sHowRiTZEClf"
   },
   "outputs": [],
   "source": [
    "# import modules\n",
    "import pandas as pd\n",
    "from pathlib import Path\n",
    "import os"
   ]
  },
  {
   "cell_type": "code",
   "execution_count": 2,
   "metadata": {
    "id": "0ozY9sqJsDOP"
   },
   "outputs": [],
   "source": [
    "# clone github\n",
    "!git clone https://github.com/saurabh-khanna/cs230.git"
   ]
  },
  {
   "cell_type": "code",
   "execution_count": 3,
   "metadata": {
    "id": "x9OvnpRvFPVx"
   },
   "outputs": [],
   "source": [
    "# read in data\n",
    "txt_folder = Path('cs230/data_cs230').rglob('*.txt')\n",
    "files = [x for x in txt_folder]"
   ]
  },
  {
   "cell_type": "code",
   "execution_count": 4,
   "metadata": {
    "id": "qOZ4890MFQlO"
   },
   "outputs": [],
   "source": [
    "# read all files to two Python lists\n",
    "filename = []\n",
    "content = []\n",
    "for name in files:\n",
    "    # print(name)\n",
    "    f = open(name, 'r')\n",
    "    # split name of title from extension\n",
    "    f_name, f_ext = os.path.splitext(name)\n",
    "    filename.append(f_name[len(f_name)-3])\n",
    "    content.append(f.readlines()[0])\n",
    "    f.close()"
   ]
  },
  {
   "cell_type": "code",
   "execution_count": 5,
   "metadata": {
    "id": "uZuEuC2hFSOu"
   },
   "outputs": [
    {
     "name": "stdout",
     "output_type": "stream",
     "text": [
      "Empty DataFrame\n",
      "Columns: [political_affiliation, speaker_text]\n",
      "Index: []\n"
     ]
    }
   ],
   "source": [
    "# add it into dataframe\n",
    "df = pd.DataFrame({\"political_affiliation\" : filename, \"speaker_text\" : content})\n",
    "df"
   ]
  },
  {
   "cell_type": "code",
   "execution_count": null,
   "metadata": {
    "id": "hLjP9ArNFShe"
   },
   "outputs": [],
   "source": []
  }
 ],
 "metadata": {
  "colab": {
   "authorship_tag": "ABX9TyMwyzRqhoO6Bn2mZJpcW3yN",
   "collapsed_sections": [],
   "name": "cs230project_wrangle.ipynb",
   "provenance": []
  },
  "kernelspec": {
   "display_name": "Python 3",
   "language": "python",
   "name": "python3"
  },
  "language_info": {
   "codemirror_mode": {
    "name": "ipython",
    "version": 3
   },
   "file_extension": ".py",
   "mimetype": "text/x-python",
   "name": "python",
   "nbconvert_exporter": "python",
   "pygments_lexer": "ipython3",
   "version": "3.8.5"
  }
 },
 "nbformat": 4,
 "nbformat_minor": 4
}
