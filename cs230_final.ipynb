{
 "cells": [
  {
   "cell_type": "code",
   "execution_count": 1,
   "metadata": {
    "id": "sHowRiTZEClf"
   },
   "outputs": [],
   "source": [
    "# import modules\n",
    "import os\n",
    "from pathlib import Path\n",
    "\n",
    "import matplotlib.pyplot as plt\n",
    "import pandas as pd\n",
    "import seaborn as sns\n",
    "\n",
    "sns.set()\n",
    "\n",
    "import re\n",
    "\n",
    "import nltk\n",
    "import numpy as np\n",
    "from keras.layers import Flatten, GlobalMaxPooling1D\n",
    "from keras.layers.convolutional import Conv1D\n",
    "from keras.layers.core import Activation, Dense, Dropout\n",
    "from keras.layers.embeddings import Embedding\n",
    "from keras.layers.recurrent import LSTM\n",
    "from keras.models import Sequential\n",
    "from keras.preprocessing.sequence import pad_sequences\n",
    "from keras.preprocessing.text import Tokenizer, one_hot\n",
    "from nltk.corpus import stopwords\n",
    "from numpy import array, asarray, zeros\n",
    "from sklearn.model_selection import train_test_split\n",
    "from tensorflow import keras"
   ]
  },
  {
   "cell_type": "code",
   "execution_count": 2,
   "metadata": {
    "id": "0ozY9sqJsDOP"
   },
   "outputs": [],
   "source": [
    "# clone github (commenting for local machine)\n",
    "#!git clone https://github.com/saurabh-khanna/cs230.git"
   ]
  },
  {
   "cell_type": "code",
   "execution_count": 3,
   "metadata": {
    "id": "x9OvnpRvFPVx"
   },
   "outputs": [],
   "source": [
    "# read in data\n",
    "txt_folder = Path(\"data_cs230\").rglob(\"*.txt\")\n",
    "files = [x for x in txt_folder]"
   ]
  },
  {
   "cell_type": "code",
   "execution_count": 4,
   "metadata": {
    "id": "qOZ4890MFQlO"
   },
   "outputs": [],
   "source": [
    "# read all files to two Python lists\n",
    "filename = []\n",
    "content = []\n",
    "for name in files:\n",
    "    # print(name)\n",
    "    f = open(name, \"r\")\n",
    "    # split name of title from extension\n",
    "    f_name, f_ext = os.path.splitext(name)\n",
    "    filename.append(f_name[len(f_name) - 3])\n",
    "    content.append(f.readlines()[0])\n",
    "    f.close()"
   ]
  },
  {
   "cell_type": "code",
   "execution_count": 5,
   "metadata": {
    "id": "uZuEuC2hFSOu"
   },
   "outputs": [
    {
     "data": {
      "text/html": [
       "<div>\n",
       "<style scoped>\n",
       "    .dataframe tbody tr th:only-of-type {\n",
       "        vertical-align: middle;\n",
       "    }\n",
       "\n",
       "    .dataframe tbody tr th {\n",
       "        vertical-align: top;\n",
       "    }\n",
       "\n",
       "    .dataframe thead th {\n",
       "        text-align: right;\n",
       "    }\n",
       "</style>\n",
       "<table border=\"1\" class=\"dataframe\">\n",
       "  <thead>\n",
       "    <tr style=\"text-align: right;\">\n",
       "      <th></th>\n",
       "      <th>political_affiliation</th>\n",
       "      <th>speech_text</th>\n",
       "    </tr>\n",
       "  </thead>\n",
       "  <tbody>\n",
       "    <tr>\n",
       "      <th>0</th>\n",
       "      <td>R</td>\n",
       "      <td>mr. chairman , i am supportive , but my unders...</td>\n",
       "    </tr>\n",
       "    <tr>\n",
       "      <th>1</th>\n",
       "      <td>D</td>\n",
       "      <td>mr. chairman , i yield 5 minutes to the gentle...</td>\n",
       "    </tr>\n",
       "    <tr>\n",
       "      <th>2</th>\n",
       "      <td>R</td>\n",
       "      <td>mr. speaker , i yield myself 2 minutes .  mr. ...</td>\n",
       "    </tr>\n",
       "    <tr>\n",
       "      <th>3</th>\n",
       "      <td>D</td>\n",
       "      <td>mr. speaker , the work of this subcommittee ha...</td>\n",
       "    </tr>\n",
       "    <tr>\n",
       "      <th>4</th>\n",
       "      <td>D</td>\n",
       "      <td>mr. speaker , reclaiming my time , i thank aga...</td>\n",
       "    </tr>\n",
       "    <tr>\n",
       "      <th>...</th>\n",
       "      <td>...</td>\n",
       "      <td>...</td>\n",
       "    </tr>\n",
       "    <tr>\n",
       "      <th>3842</th>\n",
       "      <td>D</td>\n",
       "      <td>mr. chairman , i demand a recorded vote .</td>\n",
       "    </tr>\n",
       "    <tr>\n",
       "      <th>3843</th>\n",
       "      <td>R</td>\n",
       "      <td>mr. speaker , i rise in support of s. 5 , the ...</td>\n",
       "    </tr>\n",
       "    <tr>\n",
       "      <th>3844</th>\n",
       "      <td>R</td>\n",
       "      <td>i appreciate the gentleman yielding to me , mr...</td>\n",
       "    </tr>\n",
       "    <tr>\n",
       "      <th>3845</th>\n",
       "      <td>R</td>\n",
       "      <td>mr. chairman , i move to strike the last word ...</td>\n",
       "    </tr>\n",
       "    <tr>\n",
       "      <th>3846</th>\n",
       "      <td>D</td>\n",
       "      <td>mr. speaker , i rise in opposition to h. j. re...</td>\n",
       "    </tr>\n",
       "  </tbody>\n",
       "</table>\n",
       "<p>3847 rows × 2 columns</p>\n",
       "</div>"
      ],
      "text/plain": [
       "     political_affiliation                                        speech_text\n",
       "0                        R  mr. chairman , i am supportive , but my unders...\n",
       "1                        D  mr. chairman , i yield 5 minutes to the gentle...\n",
       "2                        R  mr. speaker , i yield myself 2 minutes .  mr. ...\n",
       "3                        D  mr. speaker , the work of this subcommittee ha...\n",
       "4                        D  mr. speaker , reclaiming my time , i thank aga...\n",
       "...                    ...                                                ...\n",
       "3842                     D        mr. chairman , i demand a recorded vote .  \n",
       "3843                     R  mr. speaker , i rise in support of s. 5 , the ...\n",
       "3844                     R  i appreciate the gentleman yielding to me , mr...\n",
       "3845                     R  mr. chairman , i move to strike the last word ...\n",
       "3846                     D  mr. speaker , i rise in opposition to h. j. re...\n",
       "\n",
       "[3847 rows x 2 columns]"
      ]
     },
     "execution_count": 5,
     "metadata": {},
     "output_type": "execute_result"
    }
   ],
   "source": [
    "# add it into dataframe\n",
    "df = pd.DataFrame({\"political_affiliation\": filename, \"speech_text\": content})\n",
    "df"
   ]
  },
  {
   "cell_type": "markdown",
   "metadata": {},
   "source": [
    "## Data Pre-processing"
   ]
  },
  {
   "cell_type": "code",
   "execution_count": 6,
   "metadata": {},
   "outputs": [
    {
     "data": {
      "text/plain": [
       "<matplotlib.axes._subplots.AxesSubplot at 0x7f10315254c0>"
      ]
     },
     "execution_count": 6,
     "metadata": {},
     "output_type": "execute_result"
    },
    {
     "data": {
      "image/png": "[encoded data removed]",
      "text/plain": [
       "<Figure size 432x288 with 1 Axes>"
      ]
     },
     "metadata": {},
     "output_type": "display_data"
    }
   ],
   "source": [
    "# descriptives\n",
    "sns.countplot(x=\"political_affiliation\", data=df)"
   ]
  },
  {
   "cell_type": "code",
   "execution_count": 7,
   "metadata": {},
   "outputs": [],
   "source": [
    "def preprocess_text(text):\n",
    "    # Remove punctuations and numbers\n",
    "    text = re.sub(\"[^a-zA-Z]\", \" \", text)\n",
    "    # Single character removal\n",
    "    text = re.sub(r\"\\s+[a-zA-Z]\\s+\", \" \", text)\n",
    "    # Removing multiple spaces\n",
    "    text = re.sub(r\"\\s+\", \" \", text)\n",
    "    return text"
   ]
  },
  {
   "cell_type": "code",
   "execution_count": 8,
   "metadata": {
    "id": "hLjP9ArNFShe"
   },
   "outputs": [
    {
     "data": {
      "text/html": [
       "<div>\n",
       "<style scoped>\n",
       "    .dataframe tbody tr th:only-of-type {\n",
       "        vertical-align: middle;\n",
       "    }\n",
       "\n",
       "    .dataframe tbody tr th {\n",
       "        vertical-align: top;\n",
       "    }\n",
       "\n",
       "    .dataframe thead th {\n",
       "        text-align: right;\n",
       "    }\n",
       "</style>\n",
       "<table border=\"1\" class=\"dataframe\">\n",
       "  <thead>\n",
       "    <tr style=\"text-align: right;\">\n",
       "      <th></th>\n",
       "      <th>political_affiliation</th>\n",
       "      <th>speech_text</th>\n",
       "      <th>speech_text_clean</th>\n",
       "    </tr>\n",
       "  </thead>\n",
       "  <tbody>\n",
       "    <tr>\n",
       "      <th>0</th>\n",
       "      <td>R</td>\n",
       "      <td>mr. chairman , i am supportive , but my unders...</td>\n",
       "      <td>mr chairman am supportive but my understanding...</td>\n",
       "    </tr>\n",
       "    <tr>\n",
       "      <th>1</th>\n",
       "      <td>D</td>\n",
       "      <td>mr. chairman , i yield 5 minutes to the gentle...</td>\n",
       "      <td>mr chairman yield minutes to the gentlewoman f...</td>\n",
       "    </tr>\n",
       "    <tr>\n",
       "      <th>2</th>\n",
       "      <td>R</td>\n",
       "      <td>mr. speaker , i yield myself 2 minutes .  mr. ...</td>\n",
       "      <td>mr speaker yield myself minutes mr speaker jus...</td>\n",
       "    </tr>\n",
       "    <tr>\n",
       "      <th>3</th>\n",
       "      <td>D</td>\n",
       "      <td>mr. speaker , the work of this subcommittee ha...</td>\n",
       "      <td>mr speaker the work of this subcommittee has a...</td>\n",
       "    </tr>\n",
       "    <tr>\n",
       "      <th>4</th>\n",
       "      <td>D</td>\n",
       "      <td>mr. speaker , reclaiming my time , i thank aga...</td>\n",
       "      <td>mr speaker reclaiming my time thank again the ...</td>\n",
       "    </tr>\n",
       "    <tr>\n",
       "      <th>...</th>\n",
       "      <td>...</td>\n",
       "      <td>...</td>\n",
       "      <td>...</td>\n",
       "    </tr>\n",
       "    <tr>\n",
       "      <th>3842</th>\n",
       "      <td>D</td>\n",
       "      <td>mr. chairman , i demand a recorded vote .</td>\n",
       "      <td>mr chairman demand recorded vote</td>\n",
       "    </tr>\n",
       "    <tr>\n",
       "      <th>3843</th>\n",
       "      <td>R</td>\n",
       "      <td>mr. speaker , i rise in support of s. 5 , the ...</td>\n",
       "      <td>mr speaker rise in support of the class action...</td>\n",
       "    </tr>\n",
       "    <tr>\n",
       "      <th>3844</th>\n",
       "      <td>R</td>\n",
       "      <td>i appreciate the gentleman yielding to me , mr...</td>\n",
       "      <td>i appreciate the gentleman yielding to me mr s...</td>\n",
       "    </tr>\n",
       "    <tr>\n",
       "      <th>3845</th>\n",
       "      <td>R</td>\n",
       "      <td>mr. chairman , i move to strike the last word ...</td>\n",
       "      <td>mr chairman move to strike the last word do so...</td>\n",
       "    </tr>\n",
       "    <tr>\n",
       "      <th>3846</th>\n",
       "      <td>D</td>\n",
       "      <td>mr. speaker , i rise in opposition to h. j. re...</td>\n",
       "      <td>mr speaker rise in opposition to j res which w...</td>\n",
       "    </tr>\n",
       "  </tbody>\n",
       "</table>\n",
       "<p>3847 rows × 3 columns</p>\n",
       "</div>"
      ],
      "text/plain": [
       "     political_affiliation                                        speech_text  \\\n",
       "0                        R  mr. chairman , i am supportive , but my unders...   \n",
       "1                        D  mr. chairman , i yield 5 minutes to the gentle...   \n",
       "2                        R  mr. speaker , i yield myself 2 minutes .  mr. ...   \n",
       "3                        D  mr. speaker , the work of this subcommittee ha...   \n",
       "4                        D  mr. speaker , reclaiming my time , i thank aga...   \n",
       "...                    ...                                                ...   \n",
       "3842                     D        mr. chairman , i demand a recorded vote .     \n",
       "3843                     R  mr. speaker , i rise in support of s. 5 , the ...   \n",
       "3844                     R  i appreciate the gentleman yielding to me , mr...   \n",
       "3845                     R  mr. chairman , i move to strike the last word ...   \n",
       "3846                     D  mr. speaker , i rise in opposition to h. j. re...   \n",
       "\n",
       "                                      speech_text_clean  \n",
       "0     mr chairman am supportive but my understanding...  \n",
       "1     mr chairman yield minutes to the gentlewoman f...  \n",
       "2     mr speaker yield myself minutes mr speaker jus...  \n",
       "3     mr speaker the work of this subcommittee has a...  \n",
       "4     mr speaker reclaiming my time thank again the ...  \n",
       "...                                                 ...  \n",
       "3842                  mr chairman demand recorded vote   \n",
       "3843  mr speaker rise in support of the class action...  \n",
       "3844  i appreciate the gentleman yielding to me mr s...  \n",
       "3845  mr chairman move to strike the last word do so...  \n",
       "3846  mr speaker rise in opposition to j res which w...  \n",
       "\n",
       "[3847 rows x 3 columns]"
      ]
     },
     "execution_count": 8,
     "metadata": {},
     "output_type": "execute_result"
    }
   ],
   "source": [
    "df[\"speech_text_clean\"] = df.apply(\n",
    "    lambda row: preprocess_text(row[\"speech_text\"]), axis=1\n",
    ")\n",
    "df"
   ]
  },
  {
   "cell_type": "code",
   "execution_count": 9,
   "metadata": {},
   "outputs": [
    {
     "data": {
      "text/html": [
       "<div>\n",
       "<style scoped>\n",
       "    .dataframe tbody tr th:only-of-type {\n",
       "        vertical-align: middle;\n",
       "    }\n",
       "\n",
       "    .dataframe tbody tr th {\n",
       "        vertical-align: top;\n",
       "    }\n",
       "\n",
       "    .dataframe thead th {\n",
       "        text-align: right;\n",
       "    }\n",
       "</style>\n",
       "<table border=\"1\" class=\"dataframe\">\n",
       "  <thead>\n",
       "    <tr style=\"text-align: right;\">\n",
       "      <th></th>\n",
       "      <th>political_affiliation</th>\n",
       "      <th>speech_text</th>\n",
       "      <th>speech_text_clean</th>\n",
       "      <th>republican</th>\n",
       "    </tr>\n",
       "  </thead>\n",
       "  <tbody>\n",
       "    <tr>\n",
       "      <th>0</th>\n",
       "      <td>R</td>\n",
       "      <td>mr. chairman , i am supportive , but my unders...</td>\n",
       "      <td>mr chairman am supportive but my understanding...</td>\n",
       "      <td>1</td>\n",
       "    </tr>\n",
       "    <tr>\n",
       "      <th>1</th>\n",
       "      <td>D</td>\n",
       "      <td>mr. chairman , i yield 5 minutes to the gentle...</td>\n",
       "      <td>mr chairman yield minutes to the gentlewoman f...</td>\n",
       "      <td>0</td>\n",
       "    </tr>\n",
       "    <tr>\n",
       "      <th>2</th>\n",
       "      <td>R</td>\n",
       "      <td>mr. speaker , i yield myself 2 minutes .  mr. ...</td>\n",
       "      <td>mr speaker yield myself minutes mr speaker jus...</td>\n",
       "      <td>1</td>\n",
       "    </tr>\n",
       "    <tr>\n",
       "      <th>3</th>\n",
       "      <td>D</td>\n",
       "      <td>mr. speaker , the work of this subcommittee ha...</td>\n",
       "      <td>mr speaker the work of this subcommittee has a...</td>\n",
       "      <td>0</td>\n",
       "    </tr>\n",
       "    <tr>\n",
       "      <th>4</th>\n",
       "      <td>D</td>\n",
       "      <td>mr. speaker , reclaiming my time , i thank aga...</td>\n",
       "      <td>mr speaker reclaiming my time thank again the ...</td>\n",
       "      <td>0</td>\n",
       "    </tr>\n",
       "    <tr>\n",
       "      <th>...</th>\n",
       "      <td>...</td>\n",
       "      <td>...</td>\n",
       "      <td>...</td>\n",
       "      <td>...</td>\n",
       "    </tr>\n",
       "    <tr>\n",
       "      <th>3842</th>\n",
       "      <td>D</td>\n",
       "      <td>mr. chairman , i demand a recorded vote .</td>\n",
       "      <td>mr chairman demand recorded vote</td>\n",
       "      <td>0</td>\n",
       "    </tr>\n",
       "    <tr>\n",
       "      <th>3843</th>\n",
       "      <td>R</td>\n",
       "      <td>mr. speaker , i rise in support of s. 5 , the ...</td>\n",
       "      <td>mr speaker rise in support of the class action...</td>\n",
       "      <td>1</td>\n",
       "    </tr>\n",
       "    <tr>\n",
       "      <th>3844</th>\n",
       "      <td>R</td>\n",
       "      <td>i appreciate the gentleman yielding to me , mr...</td>\n",
       "      <td>i appreciate the gentleman yielding to me mr s...</td>\n",
       "      <td>1</td>\n",
       "    </tr>\n",
       "    <tr>\n",
       "      <th>3845</th>\n",
       "      <td>R</td>\n",
       "      <td>mr. chairman , i move to strike the last word ...</td>\n",
       "      <td>mr chairman move to strike the last word do so...</td>\n",
       "      <td>1</td>\n",
       "    </tr>\n",
       "    <tr>\n",
       "      <th>3846</th>\n",
       "      <td>D</td>\n",
       "      <td>mr. speaker , i rise in opposition to h. j. re...</td>\n",
       "      <td>mr speaker rise in opposition to j res which w...</td>\n",
       "      <td>0</td>\n",
       "    </tr>\n",
       "  </tbody>\n",
       "</table>\n",
       "<p>3847 rows × 4 columns</p>\n",
       "</div>"
      ],
      "text/plain": [
       "     political_affiliation                                        speech_text  \\\n",
       "0                        R  mr. chairman , i am supportive , but my unders...   \n",
       "1                        D  mr. chairman , i yield 5 minutes to the gentle...   \n",
       "2                        R  mr. speaker , i yield myself 2 minutes .  mr. ...   \n",
       "3                        D  mr. speaker , the work of this subcommittee ha...   \n",
       "4                        D  mr. speaker , reclaiming my time , i thank aga...   \n",
       "...                    ...                                                ...   \n",
       "3842                     D        mr. chairman , i demand a recorded vote .     \n",
       "3843                     R  mr. speaker , i rise in support of s. 5 , the ...   \n",
       "3844                     R  i appreciate the gentleman yielding to me , mr...   \n",
       "3845                     R  mr. chairman , i move to strike the last word ...   \n",
       "3846                     D  mr. speaker , i rise in opposition to h. j. re...   \n",
       "\n",
       "                                      speech_text_clean  republican  \n",
       "0     mr chairman am supportive but my understanding...           1  \n",
       "1     mr chairman yield minutes to the gentlewoman f...           0  \n",
       "2     mr speaker yield myself minutes mr speaker jus...           1  \n",
       "3     mr speaker the work of this subcommittee has a...           0  \n",
       "4     mr speaker reclaiming my time thank again the ...           0  \n",
       "...                                                 ...         ...  \n",
       "3842                  mr chairman demand recorded vote            0  \n",
       "3843  mr speaker rise in support of the class action...           1  \n",
       "3844  i appreciate the gentleman yielding to me mr s...           1  \n",
       "3845  mr chairman move to strike the last word do so...           1  \n",
       "3846  mr speaker rise in opposition to j res which w...           0  \n",
       "\n",
       "[3847 rows x 4 columns]"
      ]
     },
     "execution_count": 9,
     "metadata": {},
     "output_type": "execute_result"
    }
   ],
   "source": [
    "# creating a binary label for classification\n",
    "# only 19 speeches for independent candidates, so clubbing them with republicans\n",
    "df[\"republican\"] = 1\n",
    "df.loc[df[\"political_affiliation\"] == \"D\", \"republican\"] = 0\n",
    "df"
   ]
  },
  {
   "cell_type": "code",
   "execution_count": 10,
   "metadata": {},
   "outputs": [],
   "source": [
    "X = df[\"speech_text_clean\"]  # input\n",
    "y = df[\"republican\"]  # labels\n",
    "\n",
    "# 75/25 train-test split\n",
    "X_train, X_test, y_train, y_test = train_test_split(\n",
    "    X, y, test_size=0.25, random_state=100\n",
    ")"
   ]
  },
  {
   "cell_type": "code",
   "execution_count": 11,
   "metadata": {},
   "outputs": [],
   "source": [
    "# Preparing the embedding layer\n",
    "tokenizer = Tokenizer(num_words=5000)\n",
    "tokenizer.fit_on_texts(X_train)\n",
    "\n",
    "X_train = tokenizer.texts_to_sequences(X_train)\n",
    "X_test = tokenizer.texts_to_sequences(X_test)"
   ]
  },
  {
   "cell_type": "code",
   "execution_count": 12,
   "metadata": {},
   "outputs": [],
   "source": [
    "# Find the vocabulary size and then perform padding on both train and test set\n",
    "vocab_size = len(tokenizer.word_index) + 1\n",
    "maxlen = 100\n",
    "\n",
    "X_train = pad_sequences(X_train, padding=\"post\", maxlen=maxlen)\n",
    "X_test = pad_sequences(X_test, padding=\"post\", maxlen=maxlen)"
   ]
  },
  {
   "cell_type": "code",
   "execution_count": 13,
   "metadata": {},
   "outputs": [],
   "source": [
    "# load the GloVe word embeddings and create a dictionary\n",
    "embeddings_dictionary = dict()\n",
    "glove_file = open(\n",
    "    \"/home/saurabh/Everything/PhD/Courses/9. Autumn 2020/CS 230/cs230/glove/glove.6B.100d.txt\",\n",
    "    encoding=\"utf8\",\n",
    ")\n",
    "\n",
    "for line in glove_file:\n",
    "    records = line.split()\n",
    "    word = records[0]\n",
    "    vector_dimensions = asarray(records[1:], dtype=\"float32\")\n",
    "    embeddings_dictionary[word] = vector_dimensions\n",
    "glove_file.close()"
   ]
  },
  {
   "cell_type": "code",
   "execution_count": 14,
   "metadata": {},
   "outputs": [],
   "source": [
    "# create embedding matrix\n",
    "embedding_matrix = zeros((vocab_size, 100))\n",
    "for word, index in tokenizer.word_index.items():\n",
    "    embedding_vector = embeddings_dictionary.get(word)\n",
    "    if embedding_vector is not None:\n",
    "        embedding_matrix[index] = embedding_vector"
   ]
  },
  {
   "cell_type": "markdown",
   "metadata": {},
   "source": [
    "## Models\n",
    "### Model 0: Logistic Regression"
   ]
  },
  {
   "cell_type": "code",
   "execution_count": 15,
   "metadata": {},
   "outputs": [
    {
     "name": "stdout",
     "output_type": "stream",
     "text": [
      "Model: \"sequential\"\n",
      "_________________________________________________________________\n",
      "Layer (type)                 Output Shape              Param #   \n",
      "=================================================================\n",
      "embedding (Embedding)        (None, 100, 100)          1837200   \n",
      "_________________________________________________________________\n",
      "flatten (Flatten)            (None, 10000)             0         \n",
      "_________________________________________________________________\n",
      "dense (Dense)                (None, 1)                 10001     \n",
      "=================================================================\n",
      "Total params: 1,847,201\n",
      "Trainable params: 10,001\n",
      "Non-trainable params: 1,837,200\n",
      "_________________________________________________________________\n"
     ]
    }
   ],
   "source": [
    "# create a sequential model\n",
    "model = Sequential()\n",
    "# create and add embedding layer\n",
    "embedding_layer = Embedding(\n",
    "    vocab_size, 100, weights=[embedding_matrix], input_length=maxlen, trainable=False\n",
    ")\n",
    "model.add(embedding_layer)\n",
    "# adding dense layer with sigmoid activation\n",
    "model.add(Flatten())\n",
    "model.add(Dense(1, activation=\"sigmoid\"))\n",
    "# compile model with sgd optimizer\n",
    "model.compile(optimizer=\"sgd\", loss=\"binary_crossentropy\", metrics=[\"binary_accuracy\"])\n",
    "model.summary()"
   ]
  },
  {
   "cell_type": "code",
   "execution_count": 16,
   "metadata": {},
   "outputs": [
    {
     "name": "stdout",
     "output_type": "stream",
     "text": [
      "Epoch 1/50\n",
      "68/68 [==============================] - 0s 3ms/step - loss: 0.9980 - binary_accuracy: 0.5067 - val_loss: 1.1406 - val_binary_accuracy: 0.5180\n",
      "Epoch 2/50\n",
      "68/68 [==============================] - 0s 2ms/step - loss: 0.8481 - binary_accuracy: 0.5640 - val_loss: 0.8155 - val_binary_accuracy: 0.5471\n",
      "Epoch 3/50\n",
      "68/68 [==============================] - 0s 2ms/step - loss: 0.7357 - binary_accuracy: 0.6093 - val_loss: 0.7062 - val_binary_accuracy: 0.5554\n",
      "Epoch 4/50\n",
      "68/68 [==============================] - 0s 2ms/step - loss: 0.6689 - binary_accuracy: 0.6533 - val_loss: 0.7758 - val_binary_accuracy: 0.5457\n",
      "Epoch 5/50\n",
      "68/68 [==============================] - 0s 3ms/step - loss: 0.5334 - binary_accuracy: 0.7374 - val_loss: 1.2063 - val_binary_accuracy: 0.5360\n",
      "Epoch 6/50\n",
      "68/68 [==============================] - 0s 2ms/step - loss: 0.5696 - binary_accuracy: 0.7138 - val_loss: 0.8015 - val_binary_accuracy: 0.5665\n",
      "Epoch 7/50\n",
      "68/68 [==============================] - 0s 2ms/step - loss: 0.5031 - binary_accuracy: 0.7490 - val_loss: 0.7337 - val_binary_accuracy: 0.5720\n",
      "Epoch 8/50\n",
      "68/68 [==============================] - 0s 2ms/step - loss: 0.4796 - binary_accuracy: 0.7670 - val_loss: 0.7206 - val_binary_accuracy: 0.5845\n",
      "Epoch 9/50\n",
      "68/68 [==============================] - 0s 2ms/step - loss: 0.4587 - binary_accuracy: 0.7901 - val_loss: 0.8157 - val_binary_accuracy: 0.5651\n",
      "Epoch 10/50\n",
      "68/68 [==============================] - 0s 2ms/step - loss: 0.4132 - binary_accuracy: 0.8183 - val_loss: 0.7002 - val_binary_accuracy: 0.5983\n",
      "Epoch 11/50\n",
      "68/68 [==============================] - 0s 2ms/step - loss: 0.3864 - binary_accuracy: 0.8484 - val_loss: 0.7003 - val_binary_accuracy: 0.5983\n",
      "Epoch 12/50\n",
      "68/68 [==============================] - 0s 2ms/step - loss: 0.3883 - binary_accuracy: 0.8428 - val_loss: 0.7856 - val_binary_accuracy: 0.5748\n",
      "Epoch 13/50\n",
      "68/68 [==============================] - 0s 2ms/step - loss: 0.3699 - binary_accuracy: 0.8534 - val_loss: 0.7324 - val_binary_accuracy: 0.5914\n",
      "Epoch 14/50\n",
      "68/68 [==============================] - 0s 2ms/step - loss: 0.3326 - binary_accuracy: 0.8779 - val_loss: 0.7183 - val_binary_accuracy: 0.6122\n",
      "Epoch 15/50\n",
      "68/68 [==============================] - 0s 2ms/step - loss: 0.3137 - binary_accuracy: 0.8978 - val_loss: 0.7180 - val_binary_accuracy: 0.6163\n",
      "Epoch 16/50\n",
      "68/68 [==============================] - 0s 2ms/step - loss: 0.3084 - binary_accuracy: 0.8978 - val_loss: 0.7144 - val_binary_accuracy: 0.6136\n",
      "Epoch 17/50\n",
      "68/68 [==============================] - 0s 2ms/step - loss: 0.2989 - binary_accuracy: 0.9071 - val_loss: 0.7288 - val_binary_accuracy: 0.6039\n",
      "Epoch 18/50\n",
      "68/68 [==============================] - 0s 2ms/step - loss: 0.2956 - binary_accuracy: 0.9038 - val_loss: 0.7158 - val_binary_accuracy: 0.6053\n",
      "Epoch 19/50\n",
      "68/68 [==============================] - 0s 2ms/step - loss: 0.2774 - binary_accuracy: 0.9154 - val_loss: 0.7176 - val_binary_accuracy: 0.6150\n",
      "Epoch 20/50\n",
      "68/68 [==============================] - 0s 2ms/step - loss: 0.2748 - binary_accuracy: 0.9209 - val_loss: 0.7597 - val_binary_accuracy: 0.5859\n",
      "Epoch 21/50\n",
      "68/68 [==============================] - 0s 2ms/step - loss: 0.2691 - binary_accuracy: 0.9205 - val_loss: 0.7233 - val_binary_accuracy: 0.6177\n",
      "Epoch 22/50\n",
      "68/68 [==============================] - 0s 2ms/step - loss: 0.2639 - binary_accuracy: 0.9200 - val_loss: 0.7994 - val_binary_accuracy: 0.5789\n",
      "Epoch 23/50\n",
      "68/68 [==============================] - 0s 2ms/step - loss: 0.2613 - binary_accuracy: 0.9219 - val_loss: 0.7586 - val_binary_accuracy: 0.6108\n",
      "Epoch 24/50\n",
      "68/68 [==============================] - 0s 2ms/step - loss: 0.2549 - binary_accuracy: 0.9256 - val_loss: 0.7424 - val_binary_accuracy: 0.6066\n",
      "Epoch 25/50\n",
      "68/68 [==============================] - 0s 2ms/step - loss: 0.2480 - binary_accuracy: 0.9260 - val_loss: 0.7437 - val_binary_accuracy: 0.5997\n",
      "Epoch 26/50\n",
      "68/68 [==============================] - 0s 2ms/step - loss: 0.2465 - binary_accuracy: 0.9251 - val_loss: 0.7402 - val_binary_accuracy: 0.6122\n",
      "Epoch 27/50\n",
      "68/68 [==============================] - 0s 2ms/step - loss: 0.2405 - binary_accuracy: 0.9274 - val_loss: 0.7380 - val_binary_accuracy: 0.6150\n",
      "Epoch 28/50\n",
      "68/68 [==============================] - 0s 2ms/step - loss: 0.2391 - binary_accuracy: 0.9297 - val_loss: 0.7411 - val_binary_accuracy: 0.6136\n",
      "Epoch 29/50\n",
      "68/68 [==============================] - 0s 2ms/step - loss: 0.2330 - binary_accuracy: 0.9316 - val_loss: 0.7514 - val_binary_accuracy: 0.6122\n",
      "Epoch 30/50\n",
      "68/68 [==============================] - 0s 2ms/step - loss: 0.2302 - binary_accuracy: 0.9325 - val_loss: 0.7556 - val_binary_accuracy: 0.6080\n",
      "Epoch 31/50\n",
      "68/68 [==============================] - 0s 2ms/step - loss: 0.2266 - binary_accuracy: 0.9316 - val_loss: 0.7504 - val_binary_accuracy: 0.6053\n",
      "Epoch 32/50\n",
      "68/68 [==============================] - 0s 2ms/step - loss: 0.2244 - binary_accuracy: 0.9344 - val_loss: 0.8066 - val_binary_accuracy: 0.5886\n",
      "Epoch 33/50\n",
      "68/68 [==============================] - 0s 2ms/step - loss: 0.2223 - binary_accuracy: 0.9311 - val_loss: 0.7534 - val_binary_accuracy: 0.6150\n",
      "Epoch 34/50\n",
      "68/68 [==============================] - 0s 2ms/step - loss: 0.2198 - binary_accuracy: 0.9362 - val_loss: 0.7827 - val_binary_accuracy: 0.6066\n",
      "Epoch 35/50\n",
      "68/68 [==============================] - 0s 2ms/step - loss: 0.2156 - binary_accuracy: 0.9339 - val_loss: 0.7572 - val_binary_accuracy: 0.6177\n",
      "Epoch 36/50\n",
      "68/68 [==============================] - 0s 2ms/step - loss: 0.2131 - binary_accuracy: 0.9371 - val_loss: 0.7851 - val_binary_accuracy: 0.6094\n",
      "Epoch 37/50\n",
      "68/68 [==============================] - 0s 2ms/step - loss: 0.2124 - binary_accuracy: 0.9367 - val_loss: 0.7718 - val_binary_accuracy: 0.5970\n",
      "Epoch 38/50\n",
      "68/68 [==============================] - 0s 2ms/step - loss: 0.2091 - binary_accuracy: 0.9380 - val_loss: 0.7773 - val_binary_accuracy: 0.5928\n",
      "Epoch 39/50\n",
      "68/68 [==============================] - 0s 2ms/step - loss: 0.2076 - binary_accuracy: 0.9367 - val_loss: 0.7694 - val_binary_accuracy: 0.6191\n",
      "Epoch 40/50\n",
      "68/68 [==============================] - 0s 2ms/step - loss: 0.2041 - binary_accuracy: 0.9385 - val_loss: 0.7714 - val_binary_accuracy: 0.6177\n",
      "Epoch 41/50\n",
      "68/68 [==============================] - 0s 2ms/step - loss: 0.2026 - binary_accuracy: 0.9399 - val_loss: 0.7738 - val_binary_accuracy: 0.6136\n",
      "Epoch 42/50\n",
      "68/68 [==============================] - 0s 2ms/step - loss: 0.2009 - binary_accuracy: 0.9413 - val_loss: 0.7805 - val_binary_accuracy: 0.6053\n",
      "Epoch 43/50\n",
      "68/68 [==============================] - 0s 2ms/step - loss: 0.1987 - binary_accuracy: 0.9408 - val_loss: 0.7820 - val_binary_accuracy: 0.6025\n",
      "Epoch 44/50\n",
      "68/68 [==============================] - 0s 2ms/step - loss: 0.1975 - binary_accuracy: 0.9413 - val_loss: 0.7810 - val_binary_accuracy: 0.6136\n",
      "Epoch 45/50\n",
      "68/68 [==============================] - 0s 2ms/step - loss: 0.1966 - binary_accuracy: 0.9417 - val_loss: 0.7871 - val_binary_accuracy: 0.6025\n",
      "Epoch 46/50\n",
      "68/68 [==============================] - 0s 3ms/step - loss: 0.1933 - binary_accuracy: 0.9417 - val_loss: 0.7890 - val_binary_accuracy: 0.6025\n",
      "Epoch 47/50\n",
      "68/68 [==============================] - 0s 2ms/step - loss: 0.1920 - binary_accuracy: 0.9417 - val_loss: 0.7910 - val_binary_accuracy: 0.6053\n",
      "Epoch 48/50\n",
      "68/68 [==============================] - 0s 2ms/step - loss: 0.1902 - binary_accuracy: 0.9427 - val_loss: 0.7893 - val_binary_accuracy: 0.6163\n",
      "Epoch 49/50\n",
      "68/68 [==============================] - 0s 2ms/step - loss: 0.1894 - binary_accuracy: 0.9413 - val_loss: 0.7948 - val_binary_accuracy: 0.6177\n",
      "Epoch 50/50\n",
      "68/68 [==============================] - 0s 2ms/step - loss: 0.1871 - binary_accuracy: 0.9436 - val_loss: 0.7942 - val_binary_accuracy: 0.6122\n"
     ]
    }
   ],
   "source": [
    "history = model.fit(\n",
    "    X_train, y_train, batch_size=32, epochs=50, verbose=1, validation_split=0.25\n",
    ")"
   ]
  },
  {
   "cell_type": "code",
   "execution_count": 17,
   "metadata": {},
   "outputs": [
    {
     "name": "stdout",
     "output_type": "stream",
     "text": [
      "31/31 [==============================] - 0s 1ms/step - loss: 0.8454 - binary_accuracy: 0.5800\n",
      "Test Accuracy: 0.5800415873527527\n"
     ]
    }
   ],
   "source": [
    "score = model.evaluate(X_test, y_test, verbose=1)\n",
    "print(\"Test Accuracy:\", score[1])"
   ]
  },
  {
   "cell_type": "code",
   "execution_count": 18,
   "metadata": {},
   "outputs": [
    {
     "data": {
      "text/plain": [
       "<matplotlib.legend.Legend at 0x7f10201a77f0>"
      ]
     },
     "execution_count": 18,
     "metadata": {},
     "output_type": "execute_result"
    },
    {
     "data": {
      "image/png": "[encoded data removed]",
      "text/plain": [
       "<Figure size 432x288 with 1 Axes>"
      ]
     },
     "metadata": {},
     "output_type": "display_data"
    }
   ],
   "source": [
    "plt.title(\"Model accuracy\")\n",
    "plt.ylabel(\"Accuracy\")\n",
    "plt.xlabel(\"Epoch\")\n",
    "plt.plot(history.history[\"binary_accuracy\"])\n",
    "plt.plot(history.history[\"val_binary_accuracy\"])\n",
    "plt.legend([\"Train\", \"Test\"], loc=\"upper left\")"
   ]
  },
  {
   "cell_type": "markdown",
   "metadata": {},
   "source": [
    "### Model 1: Simple Neural Network"
   ]
  },
  {
   "cell_type": "code",
   "execution_count": 19,
   "metadata": {},
   "outputs": [
    {
     "name": "stdout",
     "output_type": "stream",
     "text": [
      "Model: \"sequential_1\"\n",
      "_________________________________________________________________\n",
      "Layer (type)                 Output Shape              Param #   \n",
      "=================================================================\n",
      "embedding_1 (Embedding)      (None, 100, 100)          1837200   \n",
      "_________________________________________________________________\n",
      "flatten_1 (Flatten)          (None, 10000)             0         \n",
      "_________________________________________________________________\n",
      "dense_1 (Dense)              (None, 24)                240024    \n",
      "_________________________________________________________________\n",
      "dense_2 (Dense)              (None, 24)                600       \n",
      "_________________________________________________________________\n",
      "dense_3 (Dense)              (None, 24)                600       \n",
      "_________________________________________________________________\n",
      "dense_4 (Dense)              (None, 24)                600       \n",
      "_________________________________________________________________\n",
      "dense_5 (Dense)              (None, 1)                 25        \n",
      "=================================================================\n",
      "Total params: 2,079,049\n",
      "Trainable params: 241,849\n",
      "Non-trainable params: 1,837,200\n",
      "_________________________________________________________________\n"
     ]
    }
   ],
   "source": [
    "# create a sequential model\n",
    "model = Sequential()\n",
    "# create and add embedding layer\n",
    "embedding_layer = Embedding(\n",
    "    vocab_size, 100, weights=[embedding_matrix], input_length=maxlen, trainable=False\n",
    ")\n",
    "model.add(embedding_layer)\n",
    "# adding dense layer with sigmoid activation\n",
    "model.add(Flatten())\n",
    "model.add(\n",
    "    Dense(24, activation=\"relu\", kernel_regularizer=keras.regularizers.l2(l2=0.0075))\n",
    ")\n",
    "model.add(\n",
    "    Dense(24, activation=\"relu\", kernel_regularizer=keras.regularizers.l2(l2=0.0075))\n",
    ")\n",
    "model.add(\n",
    "    Dense(24, activation=\"relu\", kernel_regularizer=keras.regularizers.l2(l2=0.0075))\n",
    ")\n",
    "model.add(\n",
    "    Dense(24, activation=\"relu\", kernel_regularizer=keras.regularizers.l2(l2=0.0075))\n",
    ")\n",
    "model.add(\n",
    "    Dense(1, activation=\"sigmoid\", kernel_regularizer=keras.regularizers.l2(l2=0.0075))\n",
    ")\n",
    "\n",
    "# compile model with adam optimizer\n",
    "model.compile(optimizer=\"adam\", loss=\"binary_crossentropy\", metrics=[\"acc\"])\n",
    "model.summary()"
   ]
  },
  {
   "cell_type": "code",
   "execution_count": 20,
   "metadata": {},
   "outputs": [
    {
     "name": "stdout",
     "output_type": "stream",
     "text": [
      "Epoch 1/50\n",
      "68/68 [==============================] - 0s 6ms/step - loss: 1.3422 - acc: 0.5095 - val_loss: 1.1332 - val_acc: 0.5305\n",
      "Epoch 2/50\n",
      "68/68 [==============================] - 0s 4ms/step - loss: 1.0353 - acc: 0.5765 - val_loss: 0.9723 - val_acc: 0.5388\n",
      "Epoch 3/50\n",
      "68/68 [==============================] - 0s 5ms/step - loss: 0.9046 - acc: 0.6662 - val_loss: 0.9372 - val_acc: 0.5693\n",
      "Epoch 4/50\n",
      "68/68 [==============================] - 0s 5ms/step - loss: 0.7688 - acc: 0.7577 - val_loss: 0.9542 - val_acc: 0.6039\n",
      "Epoch 5/50\n",
      "68/68 [==============================] - 0s 5ms/step - loss: 0.6369 - acc: 0.8280 - val_loss: 1.0438 - val_acc: 0.5886\n",
      "Epoch 6/50\n",
      "68/68 [==============================] - 0s 5ms/step - loss: 0.5465 - acc: 0.8770 - val_loss: 1.1595 - val_acc: 0.6066\n",
      "Epoch 7/50\n",
      "68/68 [==============================] - 0s 5ms/step - loss: 0.4824 - acc: 0.9011 - val_loss: 1.1954 - val_acc: 0.6011\n",
      "Epoch 8/50\n",
      "68/68 [==============================] - 0s 5ms/step - loss: 0.4805 - acc: 0.9015 - val_loss: 1.2193 - val_acc: 0.5942\n",
      "Epoch 9/50\n",
      "68/68 [==============================] - 0s 5ms/step - loss: 0.4784 - acc: 0.9048 - val_loss: 1.2589 - val_acc: 0.6136\n",
      "Epoch 10/50\n",
      "68/68 [==============================] - 0s 4ms/step - loss: 0.4075 - acc: 0.9279 - val_loss: 1.4366 - val_acc: 0.5886\n",
      "Epoch 11/50\n",
      "68/68 [==============================] - 0s 5ms/step - loss: 0.3886 - acc: 0.9311 - val_loss: 1.3821 - val_acc: 0.5845\n",
      "Epoch 12/50\n",
      "68/68 [==============================] - 0s 5ms/step - loss: 0.4017 - acc: 0.9219 - val_loss: 1.3665 - val_acc: 0.5997\n",
      "Epoch 13/50\n",
      "68/68 [==============================] - 0s 4ms/step - loss: 0.4198 - acc: 0.9168 - val_loss: 1.4335 - val_acc: 0.6025\n",
      "Epoch 14/50\n",
      "68/68 [==============================] - 0s 4ms/step - loss: 0.3817 - acc: 0.9380 - val_loss: 1.4490 - val_acc: 0.5831\n",
      "Epoch 15/50\n",
      "68/68 [==============================] - 0s 5ms/step - loss: 0.3534 - acc: 0.9450 - val_loss: 1.4835 - val_acc: 0.5956\n",
      "Epoch 16/50\n",
      "68/68 [==============================] - 0s 5ms/step - loss: 0.3401 - acc: 0.9441 - val_loss: 1.5453 - val_acc: 0.5845\n",
      "Epoch 17/50\n",
      "68/68 [==============================] - 0s 5ms/step - loss: 0.4700 - acc: 0.8941 - val_loss: 1.2817 - val_acc: 0.5623\n",
      "Epoch 18/50\n",
      "68/68 [==============================] - 0s 5ms/step - loss: 0.4780 - acc: 0.9015 - val_loss: 1.2790 - val_acc: 0.5886\n",
      "Epoch 19/50\n",
      "68/68 [==============================] - 0s 5ms/step - loss: 0.3996 - acc: 0.9362 - val_loss: 1.4621 - val_acc: 0.5831\n",
      "Epoch 20/50\n",
      "68/68 [==============================] - 0s 5ms/step - loss: 0.3512 - acc: 0.9501 - val_loss: 1.4992 - val_acc: 0.5831\n",
      "Epoch 21/50\n",
      "68/68 [==============================] - 0s 6ms/step - loss: 0.3273 - acc: 0.9519 - val_loss: 1.4963 - val_acc: 0.5956\n",
      "Epoch 22/50\n",
      "68/68 [==============================] - 0s 5ms/step - loss: 0.3050 - acc: 0.9538 - val_loss: 1.4882 - val_acc: 0.5900\n",
      "Epoch 23/50\n",
      "68/68 [==============================] - 0s 5ms/step - loss: 0.2885 - acc: 0.9589 - val_loss: 1.4314 - val_acc: 0.5956\n",
      "Epoch 24/50\n",
      "68/68 [==============================] - 0s 5ms/step - loss: 0.2730 - acc: 0.9542 - val_loss: 1.4534 - val_acc: 0.5845\n",
      "Epoch 25/50\n",
      "68/68 [==============================] - 0s 5ms/step - loss: 0.2625 - acc: 0.9565 - val_loss: 1.4608 - val_acc: 0.5831\n",
      "Epoch 26/50\n",
      "68/68 [==============================] - 0s 5ms/step - loss: 0.2561 - acc: 0.9570 - val_loss: 1.4370 - val_acc: 0.5956\n",
      "Epoch 27/50\n",
      "68/68 [==============================] - 0s 5ms/step - loss: 0.3259 - acc: 0.9362 - val_loss: 1.9663 - val_acc: 0.5208\n",
      "Epoch 28/50\n",
      "68/68 [==============================] - 0s 5ms/step - loss: 0.7814 - acc: 0.7337 - val_loss: 0.8734 - val_acc: 0.6025\n",
      "Epoch 29/50\n",
      "68/68 [==============================] - 0s 5ms/step - loss: 0.6112 - acc: 0.8530 - val_loss: 0.9715 - val_acc: 0.5942\n",
      "Epoch 30/50\n",
      "68/68 [==============================] - 0s 5ms/step - loss: 0.7024 - acc: 0.7453 - val_loss: 1.0922 - val_acc: 0.6066\n",
      "Epoch 31/50\n",
      "68/68 [==============================] - 0s 5ms/step - loss: 0.5326 - acc: 0.8710 - val_loss: 1.1741 - val_acc: 0.5817\n",
      "Epoch 32/50\n",
      "68/68 [==============================] - 0s 5ms/step - loss: 0.4329 - acc: 0.9159 - val_loss: 1.2456 - val_acc: 0.5970\n",
      "Epoch 33/50\n",
      "68/68 [==============================] - 0s 5ms/step - loss: 0.3643 - acc: 0.9417 - val_loss: 1.4232 - val_acc: 0.5900\n",
      "Epoch 34/50\n",
      "68/68 [==============================] - 0s 5ms/step - loss: 0.3214 - acc: 0.9570 - val_loss: 1.3867 - val_acc: 0.5845\n",
      "Epoch 35/50\n",
      "68/68 [==============================] - 0s 5ms/step - loss: 0.3031 - acc: 0.9515 - val_loss: 1.3543 - val_acc: 0.6080\n",
      "Epoch 36/50\n",
      "68/68 [==============================] - 0s 5ms/step - loss: 0.2910 - acc: 0.9561 - val_loss: 1.3545 - val_acc: 0.5983\n",
      "Epoch 37/50\n",
      "68/68 [==============================] - 0s 5ms/step - loss: 0.2686 - acc: 0.9579 - val_loss: 1.3779 - val_acc: 0.6025\n",
      "Epoch 38/50\n",
      "68/68 [==============================] - 0s 5ms/step - loss: 0.2672 - acc: 0.9510 - val_loss: 1.3482 - val_acc: 0.6025\n",
      "Epoch 39/50\n",
      "68/68 [==============================] - 0s 5ms/step - loss: 0.2784 - acc: 0.9468 - val_loss: 1.5056 - val_acc: 0.5706\n",
      "Epoch 40/50\n",
      "68/68 [==============================] - 0s 5ms/step - loss: 0.4556 - acc: 0.9015 - val_loss: 1.2763 - val_acc: 0.6094\n",
      "Epoch 41/50\n",
      "68/68 [==============================] - 0s 5ms/step - loss: 0.3951 - acc: 0.9228 - val_loss: 1.4693 - val_acc: 0.5734\n",
      "Epoch 42/50\n",
      "68/68 [==============================] - 0s 6ms/step - loss: 0.4802 - acc: 0.8941 - val_loss: 1.2299 - val_acc: 0.6039\n",
      "Epoch 43/50\n",
      "68/68 [==============================] - 0s 5ms/step - loss: 0.4040 - acc: 0.9265 - val_loss: 1.2865 - val_acc: 0.6136\n",
      "Epoch 44/50\n",
      "68/68 [==============================] - 0s 5ms/step - loss: 0.3416 - acc: 0.9496 - val_loss: 1.4529 - val_acc: 0.5983\n",
      "Epoch 45/50\n",
      "68/68 [==============================] - 0s 5ms/step - loss: 0.3252 - acc: 0.9533 - val_loss: 1.4251 - val_acc: 0.5997\n",
      "Epoch 46/50\n",
      "68/68 [==============================] - 0s 5ms/step - loss: 0.2947 - acc: 0.9589 - val_loss: 1.4252 - val_acc: 0.6080\n",
      "Epoch 47/50\n",
      "68/68 [==============================] - 0s 5ms/step - loss: 0.2801 - acc: 0.9589 - val_loss: 1.3743 - val_acc: 0.5914\n",
      "Epoch 48/50\n",
      "68/68 [==============================] - 0s 5ms/step - loss: 0.2671 - acc: 0.9575 - val_loss: 1.3186 - val_acc: 0.6011\n",
      "Epoch 49/50\n",
      "68/68 [==============================] - 0s 6ms/step - loss: 0.2569 - acc: 0.9584 - val_loss: 1.2995 - val_acc: 0.5997\n",
      "Epoch 50/50\n",
      "68/68 [==============================] - 0s 6ms/step - loss: 0.2480 - acc: 0.9579 - val_loss: 1.3083 - val_acc: 0.6122\n"
     ]
    }
   ],
   "source": [
    "history = model.fit(\n",
    "    X_train, y_train, batch_size=32, epochs=50, verbose=1, validation_split=0.25\n",
    ")"
   ]
  },
  {
   "cell_type": "code",
   "execution_count": 21,
   "metadata": {},
   "outputs": [
    {
     "name": "stdout",
     "output_type": "stream",
     "text": [
      "31/31 [==============================] - 0s 3ms/step - loss: 1.4231 - acc: 0.5936\n",
      "Test Accuracy: 0.5935550928115845\n"
     ]
    }
   ],
   "source": [
    "score = model.evaluate(X_test, y_test, verbose=1)\n",
    "print(\"Test Accuracy:\", score[1])"
   ]
  },
  {
   "cell_type": "code",
   "execution_count": 22,
   "metadata": {},
   "outputs": [
    {
     "data": {
      "text/plain": [
       "<matplotlib.legend.Legend at 0x7f0ff4771f40>"
      ]
     },
     "execution_count": 22,
     "metadata": {},
     "output_type": "execute_result"
    },
    {
     "data": {
      "image/png": "[encoded data removed]",
      "text/plain": [
       "<Figure size 432x288 with 1 Axes>"
      ]
     },
     "metadata": {},
     "output_type": "display_data"
    }
   ],
   "source": [
    "plt.title(\"Model Accuracy\")\n",
    "plt.ylabel(\"Accuracy\")\n",
    "plt.xlabel(\"Epoch\")\n",
    "plt.plot(history.history[\"acc\"])\n",
    "plt.plot(history.history[\"val_acc\"])\n",
    "plt.legend([\"Train\", \"Test\"], loc=\"upper left\")"
   ]
  },
  {
   "cell_type": "markdown",
   "metadata": {},
   "source": [
    "### Model 2: Convolutional Neural Net"
   ]
  },
  {
   "cell_type": "code",
   "execution_count": 23,
   "metadata": {},
   "outputs": [
    {
     "name": "stdout",
     "output_type": "stream",
     "text": [
      "Model: \"sequential_2\"\n",
      "_________________________________________________________________\n",
      "Layer (type)                 Output Shape              Param #   \n",
      "=================================================================\n",
      "embedding_2 (Embedding)      (None, 100, 100)          1837200   \n",
      "_________________________________________________________________\n",
      "conv1d (Conv1D)              (None, 96, 128)           64128     \n",
      "_________________________________________________________________\n",
      "global_max_pooling1d (Global (None, 128)               0         \n",
      "_________________________________________________________________\n",
      "dense_6 (Dense)              (None, 24)                3096      \n",
      "_________________________________________________________________\n",
      "dense_7 (Dense)              (None, 24)                600       \n",
      "_________________________________________________________________\n",
      "dense_8 (Dense)              (None, 24)                600       \n",
      "_________________________________________________________________\n",
      "dense_9 (Dense)              (None, 24)                600       \n",
      "_________________________________________________________________\n",
      "dense_10 (Dense)             (None, 1)                 25        \n",
      "=================================================================\n",
      "Total params: 1,906,249\n",
      "Trainable params: 69,049\n",
      "Non-trainable params: 1,837,200\n",
      "_________________________________________________________________\n"
     ]
    }
   ],
   "source": [
    "model = Sequential()\n",
    "\n",
    "embedding_layer = Embedding(\n",
    "    vocab_size, 100, weights=[embedding_matrix], input_length=maxlen, trainable=False\n",
    ")\n",
    "model.add(embedding_layer)\n",
    "\n",
    "model.add(Conv1D(128, 5, activation=\"relu\"))\n",
    "model.add(GlobalMaxPooling1D())\n",
    "model.add(\n",
    "    Dense(24, activation=\"relu\", kernel_regularizer=keras.regularizers.l2(l2=0.0075))\n",
    ")\n",
    "model.add(\n",
    "    Dense(24, activation=\"relu\", kernel_regularizer=keras.regularizers.l2(l2=0.0075))\n",
    ")\n",
    "model.add(\n",
    "    Dense(24, activation=\"relu\", kernel_regularizer=keras.regularizers.l2(l2=0.0075))\n",
    ")\n",
    "model.add(\n",
    "    Dense(24, activation=\"relu\", kernel_regularizer=keras.regularizers.l2(l2=0.0075))\n",
    ")\n",
    "model.add(Dense(1, activation=\"sigmoid\"))\n",
    "model.compile(optimizer=\"adam\", loss=\"binary_crossentropy\", metrics=[\"acc\"])\n",
    "model.summary()"
   ]
  },
  {
   "cell_type": "code",
   "execution_count": 24,
   "metadata": {},
   "outputs": [
    {
     "name": "stdout",
     "output_type": "stream",
     "text": [
      "Epoch 1/50\n",
      "68/68 [==============================] - 1s 15ms/step - loss: 1.3516 - acc: 0.5460 - val_loss: 1.1721 - val_acc: 0.5845\n",
      "Epoch 2/50\n",
      "68/68 [==============================] - 1s 14ms/step - loss: 1.0313 - acc: 0.6523 - val_loss: 0.9964 - val_acc: 0.5762\n",
      "Epoch 3/50\n",
      "68/68 [==============================] - 1s 14ms/step - loss: 0.8124 - acc: 0.7282 - val_loss: 0.8761 - val_acc: 0.6247\n",
      "Epoch 4/50\n",
      "68/68 [==============================] - 1s 14ms/step - loss: 0.5750 - acc: 0.8460 - val_loss: 0.8413 - val_acc: 0.6565\n",
      "Epoch 5/50\n",
      "68/68 [==============================] - 1s 14ms/step - loss: 0.3969 - acc: 0.9251 - val_loss: 1.0673 - val_acc: 0.6163\n",
      "Epoch 6/50\n",
      "68/68 [==============================] - 1s 14ms/step - loss: 0.3146 - acc: 0.9445 - val_loss: 0.9255 - val_acc: 0.6662\n",
      "Epoch 7/50\n",
      "68/68 [==============================] - 1s 14ms/step - loss: 0.2602 - acc: 0.9542 - val_loss: 0.9640 - val_acc: 0.6537\n",
      "Epoch 8/50\n",
      "68/68 [==============================] - 1s 14ms/step - loss: 0.2402 - acc: 0.9612 - val_loss: 1.0132 - val_acc: 0.6427\n",
      "Epoch 9/50\n",
      "68/68 [==============================] - 1s 14ms/step - loss: 0.2339 - acc: 0.9575 - val_loss: 1.1080 - val_acc: 0.6302\n",
      "Epoch 10/50\n",
      "68/68 [==============================] - 1s 14ms/step - loss: 0.2190 - acc: 0.9598 - val_loss: 0.9901 - val_acc: 0.6427\n",
      "Epoch 11/50\n",
      "68/68 [==============================] - 1s 14ms/step - loss: 0.2110 - acc: 0.9621 - val_loss: 0.9550 - val_acc: 0.6440\n",
      "Epoch 12/50\n",
      "68/68 [==============================] - 1s 14ms/step - loss: 0.2011 - acc: 0.9612 - val_loss: 0.9359 - val_acc: 0.6496\n",
      "Epoch 13/50\n",
      "68/68 [==============================] - 1s 14ms/step - loss: 0.1938 - acc: 0.9635 - val_loss: 0.9499 - val_acc: 0.6496\n",
      "Epoch 14/50\n",
      "68/68 [==============================] - 1s 14ms/step - loss: 0.1888 - acc: 0.9635 - val_loss: 0.9492 - val_acc: 0.6316\n",
      "Epoch 15/50\n",
      "68/68 [==============================] - 1s 14ms/step - loss: 0.1817 - acc: 0.9621 - val_loss: 1.0243 - val_acc: 0.6482\n",
      "Epoch 16/50\n",
      "68/68 [==============================] - 1s 14ms/step - loss: 0.1819 - acc: 0.9616 - val_loss: 1.0706 - val_acc: 0.6357\n",
      "Epoch 17/50\n",
      "68/68 [==============================] - 1s 14ms/step - loss: 0.1749 - acc: 0.9630 - val_loss: 0.9586 - val_acc: 0.6427\n",
      "Epoch 18/50\n",
      "68/68 [==============================] - 1s 14ms/step - loss: 0.1691 - acc: 0.9644 - val_loss: 0.9971 - val_acc: 0.6440\n",
      "Epoch 19/50\n",
      "68/68 [==============================] - 1s 14ms/step - loss: 0.1635 - acc: 0.9644 - val_loss: 0.9326 - val_acc: 0.6427\n",
      "Epoch 20/50\n",
      "68/68 [==============================] - 1s 15ms/step - loss: 0.1607 - acc: 0.9621 - val_loss: 1.0158 - val_acc: 0.6205\n",
      "Epoch 21/50\n",
      "68/68 [==============================] - 1s 15ms/step - loss: 0.1592 - acc: 0.9621 - val_loss: 0.9998 - val_acc: 0.6427\n",
      "Epoch 22/50\n",
      "68/68 [==============================] - 1s 16ms/step - loss: 0.1541 - acc: 0.9644 - val_loss: 0.8877 - val_acc: 0.6551\n",
      "Epoch 23/50\n",
      "68/68 [==============================] - 1s 15ms/step - loss: 0.1514 - acc: 0.9649 - val_loss: 0.9173 - val_acc: 0.6510\n",
      "Epoch 24/50\n",
      "68/68 [==============================] - 1s 15ms/step - loss: 0.1491 - acc: 0.9644 - val_loss: 0.9331 - val_acc: 0.6468\n",
      "Epoch 25/50\n",
      "68/68 [==============================] - 1s 15ms/step - loss: 0.1455 - acc: 0.9630 - val_loss: 0.9045 - val_acc: 0.6247\n",
      "Epoch 26/50\n",
      "68/68 [==============================] - 1s 15ms/step - loss: 0.1452 - acc: 0.9639 - val_loss: 0.9526 - val_acc: 0.6537\n",
      "Epoch 27/50\n",
      "68/68 [==============================] - 1s 16ms/step - loss: 0.1461 - acc: 0.9630 - val_loss: 0.9708 - val_acc: 0.6482\n",
      "Epoch 28/50\n",
      "68/68 [==============================] - 1s 16ms/step - loss: 0.1411 - acc: 0.9602 - val_loss: 0.8942 - val_acc: 0.6413\n",
      "Epoch 29/50\n",
      "68/68 [==============================] - 1s 15ms/step - loss: 0.1395 - acc: 0.9616 - val_loss: 0.9197 - val_acc: 0.6510\n",
      "Epoch 30/50\n",
      "68/68 [==============================] - 1s 15ms/step - loss: 0.1398 - acc: 0.9630 - val_loss: 0.9415 - val_acc: 0.6551\n",
      "Epoch 31/50\n",
      "68/68 [==============================] - 1s 15ms/step - loss: 0.1389 - acc: 0.9630 - val_loss: 1.0415 - val_acc: 0.6399\n",
      "Epoch 32/50\n",
      "68/68 [==============================] - 1s 15ms/step - loss: 0.1350 - acc: 0.9630 - val_loss: 0.9310 - val_acc: 0.6607\n",
      "Epoch 33/50\n",
      "68/68 [==============================] - 1s 15ms/step - loss: 0.1343 - acc: 0.9630 - val_loss: 0.9249 - val_acc: 0.6468\n",
      "Epoch 34/50\n",
      "68/68 [==============================] - 1s 15ms/step - loss: 0.1345 - acc: 0.9630 - val_loss: 0.9557 - val_acc: 0.6343\n",
      "Epoch 35/50\n",
      "68/68 [==============================] - 1s 15ms/step - loss: 0.1297 - acc: 0.9639 - val_loss: 0.9196 - val_acc: 0.6399\n",
      "Epoch 36/50\n",
      "68/68 [==============================] - 1s 15ms/step - loss: 0.1257 - acc: 0.9639 - val_loss: 0.9402 - val_acc: 0.6371\n",
      "Epoch 37/50\n",
      "68/68 [==============================] - 1s 15ms/step - loss: 0.1249 - acc: 0.9653 - val_loss: 0.9093 - val_acc: 0.6399\n",
      "Epoch 38/50\n",
      "68/68 [==============================] - 1s 15ms/step - loss: 0.1230 - acc: 0.9639 - val_loss: 0.8929 - val_acc: 0.6537\n",
      "Epoch 39/50\n",
      "68/68 [==============================] - 1s 15ms/step - loss: 0.1231 - acc: 0.9653 - val_loss: 0.9279 - val_acc: 0.6399\n",
      "Epoch 40/50\n",
      "68/68 [==============================] - 1s 15ms/step - loss: 0.1219 - acc: 0.9649 - val_loss: 0.9033 - val_acc: 0.6551\n",
      "Epoch 41/50\n",
      "68/68 [==============================] - 1s 16ms/step - loss: 0.1194 - acc: 0.9644 - val_loss: 0.9036 - val_acc: 0.6440\n",
      "Epoch 42/50\n",
      "68/68 [==============================] - 1s 15ms/step - loss: 0.1182 - acc: 0.9644 - val_loss: 0.8994 - val_acc: 0.6524\n",
      "Epoch 43/50\n",
      "68/68 [==============================] - 1s 15ms/step - loss: 0.1199 - acc: 0.9639 - val_loss: 0.8892 - val_acc: 0.6440\n",
      "Epoch 44/50\n",
      "68/68 [==============================] - 1s 15ms/step - loss: 0.1196 - acc: 0.9658 - val_loss: 0.9000 - val_acc: 0.6482\n",
      "Epoch 45/50\n",
      "68/68 [==============================] - 1s 15ms/step - loss: 0.1177 - acc: 0.9639 - val_loss: 0.9166 - val_acc: 0.6496\n",
      "Epoch 46/50\n",
      "68/68 [==============================] - 1s 15ms/step - loss: 0.1139 - acc: 0.9653 - val_loss: 0.9211 - val_acc: 0.6482\n",
      "Epoch 47/50\n",
      "68/68 [==============================] - 1s 15ms/step - loss: 0.1151 - acc: 0.9639 - val_loss: 0.9059 - val_acc: 0.6482\n",
      "Epoch 48/50\n",
      "68/68 [==============================] - 1s 15ms/step - loss: 0.1155 - acc: 0.9639 - val_loss: 0.9233 - val_acc: 0.6427\n",
      "Epoch 49/50\n",
      "68/68 [==============================] - 1s 16ms/step - loss: 0.1135 - acc: 0.9649 - val_loss: 0.9515 - val_acc: 0.6510\n",
      "Epoch 50/50\n",
      "68/68 [==============================] - 1s 15ms/step - loss: 0.1121 - acc: 0.9635 - val_loss: 0.8820 - val_acc: 0.6593\n"
     ]
    }
   ],
   "source": [
    "history = model.fit(\n",
    "    X_train, y_train, batch_size=32, epochs=50, verbose=1, validation_split=0.25\n",
    ")"
   ]
  },
  {
   "cell_type": "code",
   "execution_count": 25,
   "metadata": {},
   "outputs": [
    {
     "name": "stdout",
     "output_type": "stream",
     "text": [
      "31/31 [==============================] - 0s 5ms/step - loss: 0.7993 - acc: 0.6902\n",
      "Test Accuracy: 0.6902287006378174\n"
     ]
    }
   ],
   "source": [
    "score = model.evaluate(X_test, y_test, verbose=1)\n",
    "print(\"Test Accuracy:\", score[1])"
   ]
  },
  {
   "cell_type": "code",
   "execution_count": 26,
   "metadata": {},
   "outputs": [
    {
     "data": {
      "text/plain": [
       "<matplotlib.legend.Legend at 0x7f0ff44e8490>"
      ]
     },
     "execution_count": 26,
     "metadata": {},
     "output_type": "execute_result"
    },
    {
     "data": {
      "image/png": "[encoded data removed]",
      "text/plain": [
       "<Figure size 432x288 with 1 Axes>"
      ]
     },
     "metadata": {},
     "output_type": "display_data"
    }
   ],
   "source": [
    "plt.title(\"Model Accuracy\")\n",
    "plt.ylabel(\"Accuracy\")\n",
    "plt.xlabel(\"Epoch\")\n",
    "plt.plot(history.history[\"acc\"])\n",
    "plt.plot(history.history[\"val_acc\"])\n",
    "plt.legend([\"Train\", \"Test\"], loc=\"upper left\")"
   ]
  },
  {
   "cell_type": "markdown",
   "metadata": {},
   "source": [
    "### Model 3: LSTM-RNN"
   ]
  },
  {
   "cell_type": "code",
   "execution_count": 27,
   "metadata": {},
   "outputs": [
    {
     "name": "stdout",
     "output_type": "stream",
     "text": [
      "Model: \"sequential_3\"\n",
      "_________________________________________________________________\n",
      "Layer (type)                 Output Shape              Param #   \n",
      "=================================================================\n",
      "embedding_3 (Embedding)      (None, 100, 100)          1837200   \n",
      "_________________________________________________________________\n",
      "lstm (LSTM)                  (None, 128)               117248    \n",
      "_________________________________________________________________\n",
      "dense_11 (Dense)             (None, 24)                3096      \n",
      "_________________________________________________________________\n",
      "dropout (Dropout)            (None, 24)                0         \n",
      "_________________________________________________________________\n",
      "dense_12 (Dense)             (None, 24)                600       \n",
      "_________________________________________________________________\n",
      "dropout_1 (Dropout)          (None, 24)                0         \n",
      "_________________________________________________________________\n",
      "dense_13 (Dense)             (None, 24)                600       \n",
      "_________________________________________________________________\n",
      "dropout_2 (Dropout)          (None, 24)                0         \n",
      "_________________________________________________________________\n",
      "dense_14 (Dense)             (None, 24)                600       \n",
      "_________________________________________________________________\n",
      "dropout_3 (Dropout)          (None, 24)                0         \n",
      "_________________________________________________________________\n",
      "dense_15 (Dense)             (None, 1)                 25        \n",
      "=================================================================\n",
      "Total params: 1,959,369\n",
      "Trainable params: 122,169\n",
      "Non-trainable params: 1,837,200\n",
      "_________________________________________________________________\n"
     ]
    }
   ],
   "source": [
    "model = Sequential()\n",
    "embedding_layer = Embedding(\n",
    "    vocab_size, 100, weights=[embedding_matrix], input_length=maxlen, trainable=False\n",
    ")\n",
    "model.add(embedding_layer)\n",
    "model.add(LSTM(128))\n",
    "model.add(Dense(24, activation=\"relu\"))\n",
    "model.add(Dropout(0.2))\n",
    "model.add(Dense(24, activation=\"relu\"))\n",
    "model.add(Dropout(0.2))\n",
    "model.add(Dense(24, activation=\"relu\"))\n",
    "model.add(Dropout(0.2))\n",
    "model.add(Dense(24, activation=\"relu\"))\n",
    "model.add(Dropout(0.2))\n",
    "model.add(Dense(1, activation=\"sigmoid\"))\n",
    "model.compile(optimizer=\"adam\", loss=\"binary_crossentropy\", metrics=[\"acc\"])\n",
    "model.summary()"
   ]
  },
  {
   "cell_type": "code",
   "execution_count": 28,
   "metadata": {},
   "outputs": [
    {
     "name": "stdout",
     "output_type": "stream",
     "text": [
      "Epoch 1/80\n",
      "68/68 [==============================] - 6s 84ms/step - loss: 0.6947 - acc: 0.5229 - val_loss: 0.6933 - val_acc: 0.5014\n",
      "Epoch 2/80\n",
      "68/68 [==============================] - 6s 82ms/step - loss: 0.6921 - acc: 0.5243 - val_loss: 0.6926 - val_acc: 0.5097\n",
      "Epoch 3/80\n",
      "68/68 [==============================] - 6s 82ms/step - loss: 0.6935 - acc: 0.5150 - val_loss: 0.6934 - val_acc: 0.5097\n",
      "Epoch 4/80\n",
      "68/68 [==============================] - 6s 82ms/step - loss: 0.6925 - acc: 0.5164 - val_loss: 0.6932 - val_acc: 0.5111\n",
      "Epoch 5/80\n",
      "68/68 [==============================] - 5s 80ms/step - loss: 0.6934 - acc: 0.5164 - val_loss: 0.6930 - val_acc: 0.5097\n",
      "Epoch 6/80\n",
      "68/68 [==============================] - 6s 87ms/step - loss: 0.6925 - acc: 0.5206 - val_loss: 0.6927 - val_acc: 0.5083\n",
      "Epoch 7/80\n",
      "68/68 [==============================] - 6s 84ms/step - loss: 0.6904 - acc: 0.5331 - val_loss: 0.6914 - val_acc: 0.5291\n",
      "Epoch 8/80\n",
      "68/68 [==============================] - 6s 82ms/step - loss: 0.6896 - acc: 0.5368 - val_loss: 0.6899 - val_acc: 0.5512\n",
      "Epoch 9/80\n",
      "68/68 [==============================] - 6s 83ms/step - loss: 0.6823 - acc: 0.5599 - val_loss: 0.6842 - val_acc: 0.5540\n",
      "Epoch 10/80\n",
      "68/68 [==============================] - 6s 81ms/step - loss: 0.6803 - acc: 0.5691 - val_loss: 0.6867 - val_acc: 0.5471\n",
      "Epoch 11/80\n",
      "68/68 [==============================] - 6s 83ms/step - loss: 0.6721 - acc: 0.5834 - val_loss: 0.6827 - val_acc: 0.5582\n",
      "Epoch 12/80\n",
      "68/68 [==============================] - 6s 95ms/step - loss: 0.6534 - acc: 0.6084 - val_loss: 0.6904 - val_acc: 0.5374\n",
      "Epoch 13/80\n",
      "68/68 [==============================] - 7s 96ms/step - loss: 0.6548 - acc: 0.5950 - val_loss: 0.7149 - val_acc: 0.5554\n",
      "Epoch 14/80\n",
      "68/68 [==============================] - 6s 84ms/step - loss: 0.6343 - acc: 0.6366 - val_loss: 0.6990 - val_acc: 0.5416\n",
      "Epoch 15/80\n",
      "68/68 [==============================] - 6s 82ms/step - loss: 0.6174 - acc: 0.6408 - val_loss: 0.7074 - val_acc: 0.5665\n",
      "Epoch 16/80\n",
      "68/68 [==============================] - 6s 83ms/step - loss: 0.5873 - acc: 0.6648 - val_loss: 0.7153 - val_acc: 0.5637\n",
      "Epoch 17/80\n",
      "68/68 [==============================] - 6s 84ms/step - loss: 0.5692 - acc: 0.6750 - val_loss: 0.7320 - val_acc: 0.5748\n",
      "Epoch 18/80\n",
      "68/68 [==============================] - 6s 84ms/step - loss: 0.5338 - acc: 0.7055 - val_loss: 0.8149 - val_acc: 0.5845\n",
      "Epoch 19/80\n",
      "68/68 [==============================] - 6s 82ms/step - loss: 0.5195 - acc: 0.7078 - val_loss: 0.8535 - val_acc: 0.5734\n",
      "Epoch 20/80\n",
      "68/68 [==============================] - 6s 82ms/step - loss: 0.4788 - acc: 0.7305 - val_loss: 0.8652 - val_acc: 0.5568\n",
      "Epoch 21/80\n",
      "68/68 [==============================] - 6s 82ms/step - loss: 0.4609 - acc: 0.7448 - val_loss: 0.9101 - val_acc: 0.5734\n",
      "Epoch 22/80\n",
      "68/68 [==============================] - 6s 82ms/step - loss: 0.4302 - acc: 0.7545 - val_loss: 1.0463 - val_acc: 0.5582\n",
      "Epoch 23/80\n",
      "68/68 [==============================] - 6s 85ms/step - loss: 0.4069 - acc: 0.7550 - val_loss: 1.1424 - val_acc: 0.5776\n",
      "Epoch 24/80\n",
      "68/68 [==============================] - 6s 84ms/step - loss: 0.3823 - acc: 0.7684 - val_loss: 1.3194 - val_acc: 0.5706\n",
      "Epoch 25/80\n",
      "68/68 [==============================] - 6s 86ms/step - loss: 0.3668 - acc: 0.7767 - val_loss: 1.5299 - val_acc: 0.5665\n",
      "Epoch 26/80\n",
      "68/68 [==============================] - 6s 83ms/step - loss: 0.3823 - acc: 0.7716 - val_loss: 1.4796 - val_acc: 0.5706\n",
      "Epoch 27/80\n",
      "68/68 [==============================] - 6s 84ms/step - loss: 0.3516 - acc: 0.7790 - val_loss: 1.5685 - val_acc: 0.5817\n",
      "Epoch 28/80\n",
      "68/68 [==============================] - 6s 83ms/step - loss: 0.3440 - acc: 0.7929 - val_loss: 1.4833 - val_acc: 0.5623\n",
      "Epoch 29/80\n",
      "68/68 [==============================] - 6s 84ms/step - loss: 0.3289 - acc: 0.7994 - val_loss: 1.7213 - val_acc: 0.5679\n",
      "Epoch 30/80\n",
      "68/68 [==============================] - 6s 85ms/step - loss: 0.3227 - acc: 0.7883 - val_loss: 1.9099 - val_acc: 0.5623\n",
      "Epoch 31/80\n",
      "68/68 [==============================] - 6s 87ms/step - loss: 0.3355 - acc: 0.7869 - val_loss: 1.8140 - val_acc: 0.5554\n",
      "Epoch 32/80\n",
      "68/68 [==============================] - 6s 84ms/step - loss: 0.3097 - acc: 0.8077 - val_loss: 1.6925 - val_acc: 0.5706\n",
      "Epoch 33/80\n",
      "68/68 [==============================] - 6s 89ms/step - loss: 0.3063 - acc: 0.8040 - val_loss: 2.0438 - val_acc: 0.5582\n",
      "Epoch 34/80\n",
      "68/68 [==============================] - 6s 83ms/step - loss: 0.2892 - acc: 0.8072 - val_loss: 2.3394 - val_acc: 0.5637\n",
      "Epoch 35/80\n",
      "68/68 [==============================] - 6s 84ms/step - loss: 0.3183 - acc: 0.8031 - val_loss: 1.7351 - val_acc: 0.5748\n",
      "Epoch 36/80\n",
      "68/68 [==============================] - 6s 84ms/step - loss: 0.3165 - acc: 0.8026 - val_loss: 1.7504 - val_acc: 0.5706\n",
      "Epoch 37/80\n",
      "68/68 [==============================] - 6s 88ms/step - loss: 0.3044 - acc: 0.8021 - val_loss: 2.1078 - val_acc: 0.5665\n",
      "Epoch 38/80\n",
      "68/68 [==============================] - 6s 84ms/step - loss: 0.2980 - acc: 0.8077 - val_loss: 2.3018 - val_acc: 0.5693\n",
      "Epoch 39/80\n",
      "68/68 [==============================] - 5s 80ms/step - loss: 0.2903 - acc: 0.8137 - val_loss: 2.2189 - val_acc: 0.5762\n",
      "Epoch 40/80\n",
      "68/68 [==============================] - 5s 81ms/step - loss: 0.2983 - acc: 0.8077 - val_loss: 2.0634 - val_acc: 0.5706\n",
      "Epoch 41/80\n",
      "68/68 [==============================] - 6s 81ms/step - loss: 0.3037 - acc: 0.7984 - val_loss: 2.0119 - val_acc: 0.5762\n",
      "Epoch 42/80\n",
      "68/68 [==============================] - 5s 80ms/step - loss: 0.2929 - acc: 0.8091 - val_loss: 2.3034 - val_acc: 0.5623\n",
      "Epoch 43/80\n",
      "68/68 [==============================] - 5s 80ms/step - loss: 0.2943 - acc: 0.8132 - val_loss: 2.3099 - val_acc: 0.5762\n",
      "Epoch 44/80\n",
      "68/68 [==============================] - 6s 83ms/step - loss: 0.2842 - acc: 0.8151 - val_loss: 2.6453 - val_acc: 0.5665\n",
      "Epoch 45/80\n",
      "68/68 [==============================] - 6s 81ms/step - loss: 0.2794 - acc: 0.8160 - val_loss: 2.8387 - val_acc: 0.5706\n",
      "Epoch 46/80\n",
      "68/68 [==============================] - 5s 80ms/step - loss: 0.2766 - acc: 0.8146 - val_loss: 3.1612 - val_acc: 0.5651\n",
      "Epoch 47/80\n",
      "68/68 [==============================] - 5s 80ms/step - loss: 0.2737 - acc: 0.8165 - val_loss: 3.4481 - val_acc: 0.5637\n",
      "Epoch 48/80\n",
      "68/68 [==============================] - 6s 81ms/step - loss: 0.2738 - acc: 0.8160 - val_loss: 3.3751 - val_acc: 0.5596\n",
      "Epoch 49/80\n",
      "68/68 [==============================] - 5s 79ms/step - loss: 0.3239 - acc: 0.7975 - val_loss: 1.6223 - val_acc: 0.5762\n",
      "Epoch 50/80\n",
      "68/68 [==============================] - 5s 79ms/step - loss: 0.3157 - acc: 0.7994 - val_loss: 1.7429 - val_acc: 0.5845\n",
      "Epoch 51/80\n",
      "68/68 [==============================] - 5s 80ms/step - loss: 0.2864 - acc: 0.8114 - val_loss: 2.1767 - val_acc: 0.5776\n",
      "Epoch 52/80\n",
      "68/68 [==============================] - 6s 81ms/step - loss: 0.2759 - acc: 0.8188 - val_loss: 2.6475 - val_acc: 0.5706\n",
      "Epoch 53/80\n",
      "68/68 [==============================] - 5s 81ms/step - loss: 0.2848 - acc: 0.8132 - val_loss: 2.4335 - val_acc: 0.5845\n",
      "Epoch 54/80\n",
      "68/68 [==============================] - 5s 80ms/step - loss: 0.2739 - acc: 0.8234 - val_loss: 2.7342 - val_acc: 0.5831\n",
      "Epoch 55/80\n",
      "68/68 [==============================] - 6s 86ms/step - loss: 0.2716 - acc: 0.8165 - val_loss: 2.9407 - val_acc: 0.5789\n",
      "Epoch 56/80\n",
      "68/68 [==============================] - 6s 81ms/step - loss: 0.2703 - acc: 0.8155 - val_loss: 2.9710 - val_acc: 0.5817\n",
      "Epoch 57/80\n",
      "68/68 [==============================] - 5s 80ms/step - loss: 0.2684 - acc: 0.8188 - val_loss: 3.1994 - val_acc: 0.5845\n",
      "Epoch 58/80\n",
      "68/68 [==============================] - 5s 80ms/step - loss: 0.2697 - acc: 0.8178 - val_loss: 3.2429 - val_acc: 0.5706\n",
      "Epoch 59/80\n",
      "68/68 [==============================] - 5s 81ms/step - loss: 0.2679 - acc: 0.8257 - val_loss: 3.2841 - val_acc: 0.5762\n",
      "Epoch 60/80\n",
      "68/68 [==============================] - 5s 80ms/step - loss: 0.2798 - acc: 0.8146 - val_loss: 3.0983 - val_acc: 0.5803\n",
      "Epoch 61/80\n",
      "68/68 [==============================] - 5s 81ms/step - loss: 0.2974 - acc: 0.8035 - val_loss: 2.2483 - val_acc: 0.5789\n",
      "Epoch 62/80\n",
      "68/68 [==============================] - 6s 81ms/step - loss: 0.2940 - acc: 0.8077 - val_loss: 2.5905 - val_acc: 0.5831\n",
      "Epoch 63/80\n",
      "68/68 [==============================] - 6s 82ms/step - loss: 0.2774 - acc: 0.8160 - val_loss: 2.7713 - val_acc: 0.5873\n",
      "Epoch 64/80\n",
      "68/68 [==============================] - 6s 81ms/step - loss: 0.2749 - acc: 0.8188 - val_loss: 3.0754 - val_acc: 0.5817\n",
      "Epoch 65/80\n",
      "68/68 [==============================] - 6s 81ms/step - loss: 0.2710 - acc: 0.8165 - val_loss: 2.8941 - val_acc: 0.5817\n",
      "Epoch 66/80\n",
      "68/68 [==============================] - 6s 82ms/step - loss: 0.2764 - acc: 0.8146 - val_loss: 3.1728 - val_acc: 0.5803\n",
      "Epoch 67/80\n",
      "68/68 [==============================] - 6s 82ms/step - loss: 0.3095 - acc: 0.8054 - val_loss: 2.4325 - val_acc: 0.5637\n",
      "Epoch 68/80\n",
      "68/68 [==============================] - 6s 81ms/step - loss: 0.2962 - acc: 0.8058 - val_loss: 2.6380 - val_acc: 0.5859\n",
      "Epoch 69/80\n",
      "68/68 [==============================] - 6s 81ms/step - loss: 0.2868 - acc: 0.8104 - val_loss: 2.8895 - val_acc: 0.5748\n",
      "Epoch 70/80\n",
      "68/68 [==============================] - 5s 79ms/step - loss: 0.2998 - acc: 0.8086 - val_loss: 2.2862 - val_acc: 0.5859\n",
      "Epoch 71/80\n",
      "68/68 [==============================] - 5s 81ms/step - loss: 0.2887 - acc: 0.8123 - val_loss: 2.4142 - val_acc: 0.5859\n",
      "Epoch 72/80\n",
      "68/68 [==============================] - 5s 80ms/step - loss: 0.2710 - acc: 0.8174 - val_loss: 2.7467 - val_acc: 0.5928\n",
      "Epoch 73/80\n",
      "68/68 [==============================] - 6s 81ms/step - loss: 0.2697 - acc: 0.8197 - val_loss: 2.8727 - val_acc: 0.5914\n",
      "Epoch 74/80\n",
      "68/68 [==============================] - 5s 79ms/step - loss: 0.2745 - acc: 0.8174 - val_loss: 2.8138 - val_acc: 0.5942\n",
      "Epoch 75/80\n",
      "68/68 [==============================] - 5s 80ms/step - loss: 0.2775 - acc: 0.8132 - val_loss: 2.9451 - val_acc: 0.5914\n",
      "Epoch 76/80\n",
      "68/68 [==============================] - 5s 80ms/step - loss: 0.2703 - acc: 0.8151 - val_loss: 3.2190 - val_acc: 0.5831\n",
      "Epoch 77/80\n",
      "68/68 [==============================] - 6s 86ms/step - loss: 0.2679 - acc: 0.8188 - val_loss: 3.2568 - val_acc: 0.5845\n",
      "Epoch 78/80\n",
      "68/68 [==============================] - 5s 80ms/step - loss: 0.2675 - acc: 0.8183 - val_loss: 3.5309 - val_acc: 0.5859\n",
      "Epoch 79/80\n",
      "68/68 [==============================] - 5s 80ms/step - loss: 0.2647 - acc: 0.8192 - val_loss: 3.6535 - val_acc: 0.5900\n",
      "Epoch 80/80\n",
      "68/68 [==============================] - 5s 79ms/step - loss: 0.2900 - acc: 0.8132 - val_loss: 2.6208 - val_acc: 0.5762\n"
     ]
    }
   ],
   "source": [
    "history = model.fit(\n",
    "    X_train, y_train, batch_size=32, epochs=80, verbose=1, validation_split=0.25\n",
    ")"
   ]
  },
  {
   "cell_type": "code",
   "execution_count": 29,
   "metadata": {},
   "outputs": [
    {
     "name": "stdout",
     "output_type": "stream",
     "text": [
      "31/31 [==============================] - 1s 24ms/step - loss: 2.2566 - acc: 0.5800\n",
      "Test Accuracy: 0.5800415873527527\n"
     ]
    }
   ],
   "source": [
    "score = model.evaluate(X_test, y_test, verbose=1)\n",
    "print(\"Test Accuracy:\", score[1])"
   ]
  },
  {
   "cell_type": "code",
   "execution_count": 30,
   "metadata": {},
   "outputs": [
    {
     "data": {
      "text/plain": [
       "<matplotlib.legend.Legend at 0x7f0ff44078e0>"
      ]
     },
     "execution_count": 30,
     "metadata": {},
     "output_type": "execute_result"
    },
    {
     "data": {
      "image/png": "[encoded data removed]",
      "text/plain": [
       "<Figure size 432x288 with 1 Axes>"
      ]
     },
     "metadata": {},
     "output_type": "display_data"
    }
   ],
   "source": [
    "plt.title(\"Model Accuracy\")\n",
    "plt.ylabel(\"Accuracy\")\n",
    "plt.xlabel(\"Epoch\")\n",
    "plt.plot(history.history[\"acc\"])\n",
    "plt.plot(history.history[\"val_acc\"])\n",
    "plt.legend([\"Train\", \"Test\"], loc=\"upper left\")"
   ]
  }
 ],
 "metadata": {
  "colab": {
   "authorship_tag": "ABX9TyMwyzRqhoO6Bn2mZJpcW3yN",
   "collapsed_sections": [],
   "name": "cs230project_wrangle.ipynb",
   "provenance": []
  },
  "kernelspec": {
   "display_name": "Python 3",
   "language": "python",
   "name": "python3"
  },
  "language_info": {
   "codemirror_mode": {
    "name": "ipython",
    "version": 3
   },
   "file_extension": ".py",
   "mimetype": "text/x-python",
   "name": "python",
   "nbconvert_exporter": "python",
   "pygments_lexer": "ipython3",
   "version": "3.8.5"
  }
 },
 "nbformat": 4,
 "nbformat_minor": 4
}
