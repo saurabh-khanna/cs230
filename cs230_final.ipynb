{
  "nbformat": 4,
  "nbformat_minor": 0,
  "metadata": {
    "colab": {
      "name": "cs230project_wrangle.ipynb",
      "provenance": [],
      "collapsed_sections": [],
      "authorship_tag": "ABX9TyMwyzRqhoO6Bn2mZJpcW3yN"
    },
    "kernelspec": {
      "name": "python3",
      "display_name": "Python 3"
    }
  },
  "cells": [
    {
      "cell_type": "code",
      "metadata": {
        "id": "KPEDX30LtTEZ"
      },
      "source": [
        "# import modules\n",
        "import pandas as pd"
      ],
      "execution_count": 1,
      "outputs": []
    },
    {
      "cell_type": "code",
      "metadata": {
        "id": "0ozY9sqJsDOP"
      },
      "source": [
        "# clone github\n",
        "!git clone https://github.com/saurabh-khanna/cs230.git"
      ],
      "execution_count": null,
      "outputs": []
    },
    {
      "cell_type": "code",
      "metadata": {
        "id": "sHowRiTZEClf"
      },
      "source": [
        "# import modules\n",
        "import pandas as pd\n",
        "from pathlib import Path\n",
        "import os"
      ],
      "execution_count": 3,
      "outputs": []
    },
    {
      "cell_type": "code",
      "metadata": {
        "id": "x9OvnpRvFPVx"
      },
      "source": [
        "# read in data\n",
        "txt_folder = Path('cs230/data/convote_v1.1/data_stage_three/training_set').rglob('*.txt')\n",
        "files = [x for x in txt_folder]"
      ],
      "execution_count": 10,
      "outputs": []
    },
    {
      "cell_type": "code",
      "metadata": {
        "id": "qOZ4890MFQlO"
      },
      "source": [
        "# read all files to two Python lists\n",
        "filename = []\n",
        "content = []\n",
        "for name in files:\n",
        "    # print(name)\n",
        "    f = open(name, 'r')\n",
        "    # split name of title from extension\n",
        "    f_name, f_ext = os.path.splitext(name)\n",
        "    filename.append(f_name[len(f_name)-3])\n",
        "    content.append(f.readlines()[0])\n",
        "    f.close()"
      ],
      "execution_count": 11,
      "outputs": []
    },
    {
      "cell_type": "code",
      "metadata": {
        "id": "uZuEuC2hFSOu"
      },
      "source": [
        "# add it into dataframe\n",
        "df = pd.DataFrame({\"political_affiliation\" : filename, \"speaker_text\" : content})\n",
        "print(df)"
      ],
      "execution_count": null,
      "outputs": []
    },
    {
      "cell_type": "code",
      "metadata": {
        "id": "hLjP9ArNFShe"
      },
      "source": [
        ""
      ],
      "execution_count": 77,
      "outputs": []
    }
  ]
}