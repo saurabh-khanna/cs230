{
 "cells": [
  {
   "cell_type": "code",
   "execution_count": 1,
   "metadata": {
    "id": "sHowRiTZEClf"
   },
   "outputs": [],
   "source": [
    "# import modules\n",
    "import os\n",
    "from pathlib import Path\n",
    "\n",
    "import matplotlib.pyplot as plt\n",
    "import pandas as pd\n",
    "import seaborn as sns\n",
    "\n",
    "sns.set()\n",
    "\n",
    "import re\n",
    "\n",
    "import nltk\n",
    "import numpy as np\n",
    "from keras.layers import Flatten, GlobalMaxPooling1D\n",
    "from keras.layers.convolutional import Conv1D\n",
    "from keras.layers.core import Activation, Dense, Dropout\n",
    "from keras.layers.embeddings import Embedding\n",
    "from keras.models import Sequential\n",
    "from keras.preprocessing.sequence import pad_sequences\n",
    "from keras.preprocessing.text import Tokenizer, one_hot\n",
    "from nltk.corpus import stopwords\n",
    "from numpy import array, asarray, zeros\n",
    "from sklearn.model_selection import train_test_split"
   ]
  },
  {
   "cell_type": "code",
   "execution_count": 2,
   "metadata": {
    "id": "0ozY9sqJsDOP"
   },
   "outputs": [],
   "source": [
    "# clone github (commenting for local machine)\n",
    "#!git clone https://github.com/saurabh-khanna/cs230.git"
   ]
  },
  {
   "cell_type": "code",
   "execution_count": 3,
   "metadata": {
    "id": "x9OvnpRvFPVx"
   },
   "outputs": [],
   "source": [
    "# read in data\n",
    "txt_folder = Path(\"data_cs230\").rglob(\"*.txt\")\n",
    "files = [x for x in txt_folder]"
   ]
  },
  {
   "cell_type": "code",
   "execution_count": 4,
   "metadata": {
    "id": "qOZ4890MFQlO"
   },
   "outputs": [],
   "source": [
    "# read all files to two Python lists\n",
    "filename = []\n",
    "content = []\n",
    "for name in files:\n",
    "    # print(name)\n",
    "    f = open(name, \"r\")\n",
    "    # split name of title from extension\n",
    "    f_name, f_ext = os.path.splitext(name)\n",
    "    filename.append(f_name[len(f_name) - 3])\n",
    "    content.append(f.readlines()[0])\n",
    "    f.close()"
   ]
  },
  {
   "cell_type": "code",
   "execution_count": 5,
   "metadata": {
    "id": "uZuEuC2hFSOu"
   },
   "outputs": [
    {
     "data": {
      "text/html": [
       "<div>\n",
       "<style scoped>\n",
       "    .dataframe tbody tr th:only-of-type {\n",
       "        vertical-align: middle;\n",
       "    }\n",
       "\n",
       "    .dataframe tbody tr th {\n",
       "        vertical-align: top;\n",
       "    }\n",
       "\n",
       "    .dataframe thead th {\n",
       "        text-align: right;\n",
       "    }\n",
       "</style>\n",
       "<table border=\"1\" class=\"dataframe\">\n",
       "  <thead>\n",
       "    <tr style=\"text-align: right;\">\n",
       "      <th></th>\n",
       "      <th>political_affiliation</th>\n",
       "      <th>speech_text</th>\n",
       "    </tr>\n",
       "  </thead>\n",
       "  <tbody>\n",
       "    <tr>\n",
       "      <th>0</th>\n",
       "      <td>R</td>\n",
       "      <td>mr. chairman , i am supportive , but my unders...</td>\n",
       "    </tr>\n",
       "    <tr>\n",
       "      <th>1</th>\n",
       "      <td>D</td>\n",
       "      <td>mr. chairman , i yield 5 minutes to the gentle...</td>\n",
       "    </tr>\n",
       "    <tr>\n",
       "      <th>2</th>\n",
       "      <td>R</td>\n",
       "      <td>mr. speaker , i yield myself 2 minutes .  mr. ...</td>\n",
       "    </tr>\n",
       "    <tr>\n",
       "      <th>3</th>\n",
       "      <td>D</td>\n",
       "      <td>mr. speaker , the work of this subcommittee ha...</td>\n",
       "    </tr>\n",
       "    <tr>\n",
       "      <th>4</th>\n",
       "      <td>D</td>\n",
       "      <td>mr. speaker , reclaiming my time , i thank aga...</td>\n",
       "    </tr>\n",
       "    <tr>\n",
       "      <th>...</th>\n",
       "      <td>...</td>\n",
       "      <td>...</td>\n",
       "    </tr>\n",
       "    <tr>\n",
       "      <th>3833</th>\n",
       "      <td>D</td>\n",
       "      <td>mr. chairman , i demand a recorded vote .</td>\n",
       "    </tr>\n",
       "    <tr>\n",
       "      <th>3834</th>\n",
       "      <td>R</td>\n",
       "      <td>mr. speaker , i rise in support of s. 5 , the ...</td>\n",
       "    </tr>\n",
       "    <tr>\n",
       "      <th>3835</th>\n",
       "      <td>R</td>\n",
       "      <td>i appreciate the gentleman yielding to me , mr...</td>\n",
       "    </tr>\n",
       "    <tr>\n",
       "      <th>3836</th>\n",
       "      <td>R</td>\n",
       "      <td>mr. chairman , i move to strike the last word ...</td>\n",
       "    </tr>\n",
       "    <tr>\n",
       "      <th>3837</th>\n",
       "      <td>D</td>\n",
       "      <td>mr. speaker , i rise in opposition to h. j. re...</td>\n",
       "    </tr>\n",
       "  </tbody>\n",
       "</table>\n",
       "<p>3838 rows × 2 columns</p>\n",
       "</div>"
      ],
      "text/plain": [
       "     political_affiliation                                        speech_text\n",
       "0                        R  mr. chairman , i am supportive , but my unders...\n",
       "1                        D  mr. chairman , i yield 5 minutes to the gentle...\n",
       "2                        R  mr. speaker , i yield myself 2 minutes .  mr. ...\n",
       "3                        D  mr. speaker , the work of this subcommittee ha...\n",
       "4                        D  mr. speaker , reclaiming my time , i thank aga...\n",
       "...                    ...                                                ...\n",
       "3833                     D        mr. chairman , i demand a recorded vote .  \n",
       "3834                     R  mr. speaker , i rise in support of s. 5 , the ...\n",
       "3835                     R  i appreciate the gentleman yielding to me , mr...\n",
       "3836                     R  mr. chairman , i move to strike the last word ...\n",
       "3837                     D  mr. speaker , i rise in opposition to h. j. re...\n",
       "\n",
       "[3838 rows x 2 columns]"
      ]
     },
     "execution_count": 5,
     "metadata": {},
     "output_type": "execute_result"
    }
   ],
   "source": [
    "# add it into dataframe\n",
    "df = pd.DataFrame({\"political_affiliation\": filename, \"speech_text\": content})\n",
    "df"
   ]
  },
  {
   "cell_type": "code",
   "execution_count": 6,
   "metadata": {},
   "outputs": [
    {
     "data": {
      "text/plain": [
       "<matplotlib.axes._subplots.AxesSubplot at 0x7fa446320670>"
      ]
     },
     "execution_count": 6,
     "metadata": {},
     "output_type": "execute_result"
    },
    {
     "data": {
      "image/png": "[encoded data removed]",
      "text/plain": [
       "<Figure size 432x288 with 1 Axes>"
      ]
     },
     "metadata": {},
     "output_type": "display_data"
    }
   ],
   "source": [
    "# descriptives\n",
    "sns.countplot(x=\"political_affiliation\", data=df)"
   ]
  },
  {
   "cell_type": "code",
   "execution_count": 7,
   "metadata": {},
   "outputs": [],
   "source": [
    "def preprocess_text(text):\n",
    "    # Remove punctuations and numbers\n",
    "    text = re.sub(\"[^a-zA-Z]\", \" \", text)\n",
    "    # Single character removal\n",
    "    text = re.sub(r\"\\s+[a-zA-Z]\\s+\", \" \", text)\n",
    "    # Removing multiple spaces\n",
    "    text = re.sub(r\"\\s+\", \" \", text)\n",
    "    return text"
   ]
  },
  {
   "cell_type": "code",
   "execution_count": 8,
   "metadata": {
    "id": "hLjP9ArNFShe"
   },
   "outputs": [
    {
     "data": {
      "text/html": [
       "<div>\n",
       "<style scoped>\n",
       "    .dataframe tbody tr th:only-of-type {\n",
       "        vertical-align: middle;\n",
       "    }\n",
       "\n",
       "    .dataframe tbody tr th {\n",
       "        vertical-align: top;\n",
       "    }\n",
       "\n",
       "    .dataframe thead th {\n",
       "        text-align: right;\n",
       "    }\n",
       "</style>\n",
       "<table border=\"1\" class=\"dataframe\">\n",
       "  <thead>\n",
       "    <tr style=\"text-align: right;\">\n",
       "      <th></th>\n",
       "      <th>political_affiliation</th>\n",
       "      <th>speech_text</th>\n",
       "      <th>speech_text_clean</th>\n",
       "    </tr>\n",
       "  </thead>\n",
       "  <tbody>\n",
       "    <tr>\n",
       "      <th>0</th>\n",
       "      <td>R</td>\n",
       "      <td>mr. chairman , i am supportive , but my unders...</td>\n",
       "      <td>mr chairman am supportive but my understanding...</td>\n",
       "    </tr>\n",
       "    <tr>\n",
       "      <th>1</th>\n",
       "      <td>D</td>\n",
       "      <td>mr. chairman , i yield 5 minutes to the gentle...</td>\n",
       "      <td>mr chairman yield minutes to the gentlewoman f...</td>\n",
       "    </tr>\n",
       "    <tr>\n",
       "      <th>2</th>\n",
       "      <td>R</td>\n",
       "      <td>mr. speaker , i yield myself 2 minutes .  mr. ...</td>\n",
       "      <td>mr speaker yield myself minutes mr speaker jus...</td>\n",
       "    </tr>\n",
       "    <tr>\n",
       "      <th>3</th>\n",
       "      <td>D</td>\n",
       "      <td>mr. speaker , the work of this subcommittee ha...</td>\n",
       "      <td>mr speaker the work of this subcommittee has a...</td>\n",
       "    </tr>\n",
       "    <tr>\n",
       "      <th>4</th>\n",
       "      <td>D</td>\n",
       "      <td>mr. speaker , reclaiming my time , i thank aga...</td>\n",
       "      <td>mr speaker reclaiming my time thank again the ...</td>\n",
       "    </tr>\n",
       "    <tr>\n",
       "      <th>...</th>\n",
       "      <td>...</td>\n",
       "      <td>...</td>\n",
       "      <td>...</td>\n",
       "    </tr>\n",
       "    <tr>\n",
       "      <th>3833</th>\n",
       "      <td>D</td>\n",
       "      <td>mr. chairman , i demand a recorded vote .</td>\n",
       "      <td>mr chairman demand recorded vote</td>\n",
       "    </tr>\n",
       "    <tr>\n",
       "      <th>3834</th>\n",
       "      <td>R</td>\n",
       "      <td>mr. speaker , i rise in support of s. 5 , the ...</td>\n",
       "      <td>mr speaker rise in support of the class action...</td>\n",
       "    </tr>\n",
       "    <tr>\n",
       "      <th>3835</th>\n",
       "      <td>R</td>\n",
       "      <td>i appreciate the gentleman yielding to me , mr...</td>\n",
       "      <td>i appreciate the gentleman yielding to me mr s...</td>\n",
       "    </tr>\n",
       "    <tr>\n",
       "      <th>3836</th>\n",
       "      <td>R</td>\n",
       "      <td>mr. chairman , i move to strike the last word ...</td>\n",
       "      <td>mr chairman move to strike the last word do so...</td>\n",
       "    </tr>\n",
       "    <tr>\n",
       "      <th>3837</th>\n",
       "      <td>D</td>\n",
       "      <td>mr. speaker , i rise in opposition to h. j. re...</td>\n",
       "      <td>mr speaker rise in opposition to j res which w...</td>\n",
       "    </tr>\n",
       "  </tbody>\n",
       "</table>\n",
       "<p>3838 rows × 3 columns</p>\n",
       "</div>"
      ],
      "text/plain": [
       "     political_affiliation                                        speech_text  \\\n",
       "0                        R  mr. chairman , i am supportive , but my unders...   \n",
       "1                        D  mr. chairman , i yield 5 minutes to the gentle...   \n",
       "2                        R  mr. speaker , i yield myself 2 minutes .  mr. ...   \n",
       "3                        D  mr. speaker , the work of this subcommittee ha...   \n",
       "4                        D  mr. speaker , reclaiming my time , i thank aga...   \n",
       "...                    ...                                                ...   \n",
       "3833                     D        mr. chairman , i demand a recorded vote .     \n",
       "3834                     R  mr. speaker , i rise in support of s. 5 , the ...   \n",
       "3835                     R  i appreciate the gentleman yielding to me , mr...   \n",
       "3836                     R  mr. chairman , i move to strike the last word ...   \n",
       "3837                     D  mr. speaker , i rise in opposition to h. j. re...   \n",
       "\n",
       "                                      speech_text_clean  \n",
       "0     mr chairman am supportive but my understanding...  \n",
       "1     mr chairman yield minutes to the gentlewoman f...  \n",
       "2     mr speaker yield myself minutes mr speaker jus...  \n",
       "3     mr speaker the work of this subcommittee has a...  \n",
       "4     mr speaker reclaiming my time thank again the ...  \n",
       "...                                                 ...  \n",
       "3833                  mr chairman demand recorded vote   \n",
       "3834  mr speaker rise in support of the class action...  \n",
       "3835  i appreciate the gentleman yielding to me mr s...  \n",
       "3836  mr chairman move to strike the last word do so...  \n",
       "3837  mr speaker rise in opposition to j res which w...  \n",
       "\n",
       "[3838 rows x 3 columns]"
      ]
     },
     "execution_count": 8,
     "metadata": {},
     "output_type": "execute_result"
    }
   ],
   "source": [
    "df[\"speech_text_clean\"] = df.apply(\n",
    "    lambda row: preprocess_text(row[\"speech_text\"]), axis=1\n",
    ")\n",
    "df"
   ]
  },
  {
   "cell_type": "code",
   "execution_count": 9,
   "metadata": {},
   "outputs": [
    {
     "data": {
      "text/html": [
       "<div>\n",
       "<style scoped>\n",
       "    .dataframe tbody tr th:only-of-type {\n",
       "        vertical-align: middle;\n",
       "    }\n",
       "\n",
       "    .dataframe tbody tr th {\n",
       "        vertical-align: top;\n",
       "    }\n",
       "\n",
       "    .dataframe thead th {\n",
       "        text-align: right;\n",
       "    }\n",
       "</style>\n",
       "<table border=\"1\" class=\"dataframe\">\n",
       "  <thead>\n",
       "    <tr style=\"text-align: right;\">\n",
       "      <th></th>\n",
       "      <th>political_affiliation</th>\n",
       "      <th>speech_text</th>\n",
       "      <th>speech_text_clean</th>\n",
       "      <th>republican</th>\n",
       "    </tr>\n",
       "  </thead>\n",
       "  <tbody>\n",
       "    <tr>\n",
       "      <th>0</th>\n",
       "      <td>R</td>\n",
       "      <td>mr. chairman , i am supportive , but my unders...</td>\n",
       "      <td>mr chairman am supportive but my understanding...</td>\n",
       "      <td>1</td>\n",
       "    </tr>\n",
       "    <tr>\n",
       "      <th>1</th>\n",
       "      <td>D</td>\n",
       "      <td>mr. chairman , i yield 5 minutes to the gentle...</td>\n",
       "      <td>mr chairman yield minutes to the gentlewoman f...</td>\n",
       "      <td>0</td>\n",
       "    </tr>\n",
       "    <tr>\n",
       "      <th>2</th>\n",
       "      <td>R</td>\n",
       "      <td>mr. speaker , i yield myself 2 minutes .  mr. ...</td>\n",
       "      <td>mr speaker yield myself minutes mr speaker jus...</td>\n",
       "      <td>1</td>\n",
       "    </tr>\n",
       "    <tr>\n",
       "      <th>3</th>\n",
       "      <td>D</td>\n",
       "      <td>mr. speaker , the work of this subcommittee ha...</td>\n",
       "      <td>mr speaker the work of this subcommittee has a...</td>\n",
       "      <td>0</td>\n",
       "    </tr>\n",
       "    <tr>\n",
       "      <th>4</th>\n",
       "      <td>D</td>\n",
       "      <td>mr. speaker , reclaiming my time , i thank aga...</td>\n",
       "      <td>mr speaker reclaiming my time thank again the ...</td>\n",
       "      <td>0</td>\n",
       "    </tr>\n",
       "    <tr>\n",
       "      <th>...</th>\n",
       "      <td>...</td>\n",
       "      <td>...</td>\n",
       "      <td>...</td>\n",
       "      <td>...</td>\n",
       "    </tr>\n",
       "    <tr>\n",
       "      <th>3833</th>\n",
       "      <td>D</td>\n",
       "      <td>mr. chairman , i demand a recorded vote .</td>\n",
       "      <td>mr chairman demand recorded vote</td>\n",
       "      <td>0</td>\n",
       "    </tr>\n",
       "    <tr>\n",
       "      <th>3834</th>\n",
       "      <td>R</td>\n",
       "      <td>mr. speaker , i rise in support of s. 5 , the ...</td>\n",
       "      <td>mr speaker rise in support of the class action...</td>\n",
       "      <td>1</td>\n",
       "    </tr>\n",
       "    <tr>\n",
       "      <th>3835</th>\n",
       "      <td>R</td>\n",
       "      <td>i appreciate the gentleman yielding to me , mr...</td>\n",
       "      <td>i appreciate the gentleman yielding to me mr s...</td>\n",
       "      <td>1</td>\n",
       "    </tr>\n",
       "    <tr>\n",
       "      <th>3836</th>\n",
       "      <td>R</td>\n",
       "      <td>mr. chairman , i move to strike the last word ...</td>\n",
       "      <td>mr chairman move to strike the last word do so...</td>\n",
       "      <td>1</td>\n",
       "    </tr>\n",
       "    <tr>\n",
       "      <th>3837</th>\n",
       "      <td>D</td>\n",
       "      <td>mr. speaker , i rise in opposition to h. j. re...</td>\n",
       "      <td>mr speaker rise in opposition to j res which w...</td>\n",
       "      <td>0</td>\n",
       "    </tr>\n",
       "  </tbody>\n",
       "</table>\n",
       "<p>3838 rows × 4 columns</p>\n",
       "</div>"
      ],
      "text/plain": [
       "     political_affiliation                                        speech_text  \\\n",
       "0                        R  mr. chairman , i am supportive , but my unders...   \n",
       "1                        D  mr. chairman , i yield 5 minutes to the gentle...   \n",
       "2                        R  mr. speaker , i yield myself 2 minutes .  mr. ...   \n",
       "3                        D  mr. speaker , the work of this subcommittee ha...   \n",
       "4                        D  mr. speaker , reclaiming my time , i thank aga...   \n",
       "...                    ...                                                ...   \n",
       "3833                     D        mr. chairman , i demand a recorded vote .     \n",
       "3834                     R  mr. speaker , i rise in support of s. 5 , the ...   \n",
       "3835                     R  i appreciate the gentleman yielding to me , mr...   \n",
       "3836                     R  mr. chairman , i move to strike the last word ...   \n",
       "3837                     D  mr. speaker , i rise in opposition to h. j. re...   \n",
       "\n",
       "                                      speech_text_clean  republican  \n",
       "0     mr chairman am supportive but my understanding...           1  \n",
       "1     mr chairman yield minutes to the gentlewoman f...           0  \n",
       "2     mr speaker yield myself minutes mr speaker jus...           1  \n",
       "3     mr speaker the work of this subcommittee has a...           0  \n",
       "4     mr speaker reclaiming my time thank again the ...           0  \n",
       "...                                                 ...         ...  \n",
       "3833                  mr chairman demand recorded vote            0  \n",
       "3834  mr speaker rise in support of the class action...           1  \n",
       "3835  i appreciate the gentleman yielding to me mr s...           1  \n",
       "3836  mr chairman move to strike the last word do so...           1  \n",
       "3837  mr speaker rise in opposition to j res which w...           0  \n",
       "\n",
       "[3838 rows x 4 columns]"
      ]
     },
     "execution_count": 9,
     "metadata": {},
     "output_type": "execute_result"
    }
   ],
   "source": [
    "# creating a binary label for classification\n",
    "# only 19 speeches for independent candidates, so clubbing them with republicans\n",
    "df[\"republican\"] = df[\"political_affiliation\"].replace([\"R\", \"D\"], [1, 0])\n",
    "df"
   ]
  },
  {
   "cell_type": "code",
   "execution_count": 10,
   "metadata": {},
   "outputs": [],
   "source": [
    "X = df[\"speech_text_clean\"]  # input\n",
    "y = df[\"republican\"]  # labels\n",
    "\n",
    "# 90/10 train-test split\n",
    "X_train, X_test, y_train, y_test = train_test_split(\n",
    "    X, y, test_size=0.20, random_state=100\n",
    ")"
   ]
  },
  {
   "cell_type": "code",
   "execution_count": 11,
   "metadata": {},
   "outputs": [],
   "source": [
    "# Preparing the embedding layer\n",
    "tokenizer = Tokenizer(num_words=5000)\n",
    "tokenizer.fit_on_texts(X_train)\n",
    "\n",
    "X_train = tokenizer.texts_to_sequences(X_train)\n",
    "X_test = tokenizer.texts_to_sequences(X_test)"
   ]
  },
  {
   "cell_type": "code",
   "execution_count": 12,
   "metadata": {},
   "outputs": [],
   "source": [
    "# Find the vocabulary size and then perform padding on both train and test set\n",
    "vocab_size = len(tokenizer.word_index) + 1\n",
    "maxlen = 100\n",
    "\n",
    "X_train = pad_sequences(X_train, padding=\"post\", maxlen=maxlen)\n",
    "X_test = pad_sequences(X_test, padding=\"post\", maxlen=maxlen)"
   ]
  },
  {
   "cell_type": "code",
   "execution_count": 13,
   "metadata": {},
   "outputs": [],
   "source": [
    "# load the GloVe word embeddings and create a dictionary\n",
    "embeddings_dictionary = dict()\n",
    "glove_file = open(\n",
    "    \"/home/saurabh/Everything/PhD/Courses/9. Autumn 2020/CS 230/cs230/glove/glove.6B.100d.txt\",\n",
    "    encoding=\"utf8\",\n",
    ")\n",
    "\n",
    "for line in glove_file:\n",
    "    records = line.split()\n",
    "    word = records[0]\n",
    "    vector_dimensions = asarray(records[1:], dtype=\"float32\")\n",
    "    embeddings_dictionary[word] = vector_dimensions\n",
    "glove_file.close()"
   ]
  },
  {
   "cell_type": "code",
   "execution_count": 14,
   "metadata": {},
   "outputs": [],
   "source": [
    "# create embedding matrix\n",
    "embedding_matrix = zeros((vocab_size, 100))\n",
    "for word, index in tokenizer.word_index.items():\n",
    "    embedding_vector = embeddings_dictionary.get(word)\n",
    "    if embedding_vector is not None:\n",
    "        embedding_matrix[index] = embedding_vector"
   ]
  },
  {
   "cell_type": "markdown",
   "metadata": {},
   "source": [
    "## Models\n",
    "### Model 1: Simple Neural Network"
   ]
  },
  {
   "cell_type": "code",
   "execution_count": 15,
   "metadata": {},
   "outputs": [
    {
     "name": "stdout",
     "output_type": "stream",
     "text": [
      "Model: \"sequential\"\n",
      "_________________________________________________________________\n",
      "Layer (type)                 Output Shape              Param #   \n",
      "=================================================================\n",
      "embedding (Embedding)        (None, 100, 100)          1998400   \n",
      "_________________________________________________________________\n",
      "flatten (Flatten)            (None, 10000)             0         \n",
      "_________________________________________________________________\n",
      "dense (Dense)                (None, 1)                 10001     \n",
      "=================================================================\n",
      "Total params: 2,008,401\n",
      "Trainable params: 10,001\n",
      "Non-trainable params: 1,998,400\n",
      "_________________________________________________________________\n"
     ]
    }
   ],
   "source": [
    "# create a sequential model\n",
    "model = Sequential()\n",
    "# create and add embedding layer\n",
    "embedding_layer = Embedding(\n",
    "    vocab_size, 100, weights=[embedding_matrix], input_length=maxlen, trainable=False\n",
    ")\n",
    "model.add(embedding_layer)\n",
    "# adding dense layer with sigmoid activation\n",
    "model.add(Flatten())\n",
    "model.add(Dense(1, activation=\"sigmoid\"))\n",
    "\n",
    "# compile model with adam optimizer\n",
    "model.compile(optimizer=\"adam\", loss=\"binary_crossentropy\", metrics=[\"acc\"])\n",
    "model.summary()"
   ]
  },
  {
   "cell_type": "code",
   "execution_count": 16,
   "metadata": {},
   "outputs": [
    {
     "name": "stdout",
     "output_type": "stream",
     "text": [
      "Epoch 1/20\n",
      "25/25 [==============================] - 0s 8ms/step - loss: 0.7560 - acc: 0.5293 - val_loss: 0.7420 - val_acc: 0.5289\n",
      "Epoch 2/20\n",
      "25/25 [==============================] - 0s 4ms/step - loss: 0.6238 - acc: 0.6390 - val_loss: 0.7044 - val_acc: 0.5751\n",
      "Epoch 3/20\n",
      "25/25 [==============================] - 0s 4ms/step - loss: 0.5453 - acc: 0.7529 - val_loss: 0.6976 - val_acc: 0.5751\n",
      "Epoch 4/20\n",
      "25/25 [==============================] - 0s 4ms/step - loss: 0.4956 - acc: 0.8018 - val_loss: 0.7006 - val_acc: 0.5723\n",
      "Epoch 5/20\n",
      "25/25 [==============================] - 0s 4ms/step - loss: 0.4601 - acc: 0.8295 - val_loss: 0.7172 - val_acc: 0.5838\n",
      "Epoch 6/20\n",
      "25/25 [==============================] - 0s 4ms/step - loss: 0.4302 - acc: 0.8327 - val_loss: 0.7321 - val_acc: 0.5809\n",
      "Epoch 7/20\n",
      "25/25 [==============================] - 0s 4ms/step - loss: 0.3994 - acc: 0.8697 - val_loss: 0.7230 - val_acc: 0.5925\n",
      "Epoch 8/20\n",
      "25/25 [==============================] - 0s 4ms/step - loss: 0.3752 - acc: 0.8745 - val_loss: 0.7288 - val_acc: 0.5983\n",
      "Epoch 9/20\n",
      "25/25 [==============================] - 0s 4ms/step - loss: 0.3572 - acc: 0.8851 - val_loss: 0.7357 - val_acc: 0.5983\n",
      "Epoch 10/20\n",
      "25/25 [==============================] - 0s 4ms/step - loss: 0.3441 - acc: 0.8925 - val_loss: 0.7850 - val_acc: 0.5954\n",
      "Epoch 11/20\n",
      "25/25 [==============================] - 0s 4ms/step - loss: 0.3278 - acc: 0.8935 - val_loss: 0.7490 - val_acc: 0.6214\n",
      "Epoch 12/20\n",
      "25/25 [==============================] - 0s 4ms/step - loss: 0.3117 - acc: 0.9012 - val_loss: 0.7660 - val_acc: 0.5809\n",
      "Epoch 13/20\n",
      "25/25 [==============================] - 0s 4ms/step - loss: 0.2977 - acc: 0.9057 - val_loss: 0.7666 - val_acc: 0.6214\n",
      "Epoch 14/20\n",
      "25/25 [==============================] - 0s 4ms/step - loss: 0.2868 - acc: 0.9112 - val_loss: 0.7727 - val_acc: 0.6127\n",
      "Epoch 15/20\n",
      "25/25 [==============================] - 0s 4ms/step - loss: 0.2760 - acc: 0.9163 - val_loss: 0.7801 - val_acc: 0.6185\n",
      "Epoch 16/20\n",
      "25/25 [==============================] - 0s 4ms/step - loss: 0.2718 - acc: 0.9180 - val_loss: 0.7922 - val_acc: 0.5954\n",
      "Epoch 17/20\n",
      "25/25 [==============================] - 0s 4ms/step - loss: 0.2589 - acc: 0.9218 - val_loss: 0.7981 - val_acc: 0.6127\n",
      "Epoch 18/20\n",
      "25/25 [==============================] - 0s 4ms/step - loss: 0.2502 - acc: 0.9183 - val_loss: 0.8067 - val_acc: 0.6127\n",
      "Epoch 19/20\n",
      "25/25 [==============================] - 0s 4ms/step - loss: 0.2464 - acc: 0.9186 - val_loss: 0.8114 - val_acc: 0.6156\n",
      "Epoch 20/20\n",
      "25/25 [==============================] - 0s 4ms/step - loss: 0.2390 - acc: 0.9225 - val_loss: 0.8356 - val_acc: 0.6040\n"
     ]
    }
   ],
   "source": [
    "history = model.fit(\n",
    "    X_train, y_train, batch_size=128, epochs=20, verbose=1, validation_split=0.2\n",
    ")"
   ]
  },
  {
   "cell_type": "code",
   "execution_count": 17,
   "metadata": {},
   "outputs": [
    {
     "name": "stdout",
     "output_type": "stream",
     "text": [
      "12/12 [==============================] - 0s 1ms/step - loss: 0.8020 - acc: 0.6042\n",
      "Test Accuracy: 0.6041666865348816\n"
     ]
    }
   ],
   "source": [
    "score = model.evaluate(X_test, y_test, verbose=1)\n",
    "print(\"Test Accuracy:\", score[1])"
   ]
  },
  {
   "cell_type": "code",
   "execution_count": 18,
   "metadata": {},
   "outputs": [
    {
     "data": {
      "text/plain": [
       "[<matplotlib.lines.Line2D at 0x7fa4305cb1c0>]"
      ]
     },
     "execution_count": 18,
     "metadata": {},
     "output_type": "execute_result"
    },
    {
     "data": {
      "image/png": "[encoded data removed]",
      "text/plain": [
       "<Figure size 432x288 with 1 Axes>"
      ]
     },
     "metadata": {},
     "output_type": "display_data"
    }
   ],
   "source": [
    "plt.title(\"model accuracy\")\n",
    "plt.ylabel(\"accuracy\")\n",
    "plt.xlabel(\"epoch\")\n",
    "plt.legend([\"train\", \"test\"], loc=\"upper left\")\n",
    "plt.plot(history.history[\"acc\"])\n",
    "plt.plot(history.history[\"val_acc\"])"
   ]
  },
  {
   "cell_type": "markdown",
   "metadata": {},
   "source": [
    "### Model 2: Convolutional Neural Net"
   ]
  },
  {
   "cell_type": "code",
   "execution_count": null,
   "metadata": {},
   "outputs": [],
   "source": []
  }
 ],
 "metadata": {
  "colab": {
   "authorship_tag": "ABX9TyMwyzRqhoO6Bn2mZJpcW3yN",
   "collapsed_sections": [],
   "name": "cs230project_wrangle.ipynb",
   "provenance": []
  },
  "kernelspec": {
   "display_name": "Python 3",
   "language": "python",
   "name": "python3"
  },
  "language_info": {
   "codemirror_mode": {
    "name": "ipython",
    "version": 3
   },
   "file_extension": ".py",
   "mimetype": "text/x-python",
   "name": "python",
   "nbconvert_exporter": "python",
   "pygments_lexer": "ipython3",
   "version": "3.8.5"
  }
 },
 "nbformat": 4,
 "nbformat_minor": 4
}
