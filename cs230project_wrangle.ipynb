{
  "nbformat": 4,
  "nbformat_minor": 0,
  "metadata": {
    "colab": {
      "name": "cs230project_wrangle.ipynb",
      "provenance": [],
      "collapsed_sections": [],
      "authorship_tag": "ABX9TyMwyzRqhoO6Bn2mZJpcW3yN"
    },
    "kernelspec": {
      "name": "python3",
      "display_name": "Python 3"
    }
  },
  "cells": [
    {
      "cell_type": "code",
      "metadata": {
        "id": "KPEDX30LtTEZ"
      },
      "source": [
        "# import modules\n",
        "import pandas as pd"
      ],
      "execution_count": 1,
      "outputs": []
    },
    {
      "cell_type": "code",
      "metadata": {
        "id": "0ozY9sqJsDOP",
        "outputId": "d2684ccb-77ba-43b2-dd2a-8096a387264f",
        "colab": {
          "base_uri": "https://localhost:8080/"
        }
      },
      "source": [
        "# clone github\n",
        "!git clone https://github.com/saurabh-khanna/cs230.git"
      ],
      "execution_count": 2,
      "outputs": [
        {
          "output_type": "stream",
          "text": [
            "Cloning into 'cs230'...\n",
            "remote: Enumerating objects: 10402, done.\u001b[K\n",
            "remote: Counting objects: 100% (10402/10402), done.\u001b[K\n",
            "remote: Compressing objects: 100% (6720/6720), done.\u001b[K\n",
            "remote: Total 10402 (delta 3257), reused 10401 (delta 3256), pack-reused 0\n",
            "Receiving objects: 100% (10402/10402), 6.00 MiB | 15.96 MiB/s, done.\n",
            "Resolving deltas: 100% (3257/3257), done.\n"
          ],
          "name": "stdout"
        }
      ]
    },
    {
      "cell_type": "code",
      "metadata": {
        "id": "sHowRiTZEClf"
      },
      "source": [
        "# import modules\n",
        "import pandas as pd\n",
        "from pathlib import Path\n",
        "import os"
      ],
      "execution_count": 3,
      "outputs": []
    },
    {
      "cell_type": "code",
      "metadata": {
        "id": "x9OvnpRvFPVx"
      },
      "source": [
        "# read in data\n",
        "txt_folder = Path('cs230/data/convote_v1.1/data_stage_three/training_set').rglob('*.txt')\n",
        "files = [x for x in txt_folder]"
      ],
      "execution_count": 10,
      "outputs": []
    },
    {
      "cell_type": "code",
      "metadata": {
        "id": "qOZ4890MFQlO"
      },
      "source": [
        "# read all files to two Python lists\n",
        "filename = []\n",
        "content = []\n",
        "for name in files:\n",
        "    # print(name)\n",
        "    f = open(name, 'r')\n",
        "    # split name of title from extension\n",
        "    f_name, f_ext = os.path.splitext(name)\n",
        "    filename.append(f_name[len(f_name)-3])\n",
        "    content.append(f.readlines()[0])\n",
        "    f.close()"
      ],
      "execution_count": 11,
      "outputs": []
    },
    {
      "cell_type": "code",
      "metadata": {
        "id": "uZuEuC2hFSOu",
        "outputId": "74e46825-b511-4f8f-bc15-9a7f93b7fc12",
        "colab": {
          "base_uri": "https://localhost:8080/"
        }
      },
      "source": [
        "# add it into dataframe\n",
        "df = pd.DataFrame({\"political_affiliation\" : filename, \"speaker_text\" : content})\n",
        "print(df)"
      ],
      "execution_count": 12,
      "outputs": [
        {
          "output_type": "stream",
          "text": [
            "     political_affiliation                                       speaker_text\n",
            "0                        R  mr. chairman , the gang deterrence and communi...\n",
            "1                        D  mr. chairman , the language of this bill , whi...\n",
            "2                        R  mr. speaker , this is interesting , hearing ou...\n",
            "3                        D  i thank my friend , the distinguished rules co...\n",
            "4                        D  mr. chairman , i would like to thank the gentl...\n",
            "...                    ...                                                ...\n",
            "2736                     R  i am not in need of any further time , and i t...\n",
            "2737                     D  mr. chairman , this congressional black caucus...\n",
            "2738                     D  mr. speaker , i yield myself such time as i ma...\n",
            "2739                     D  mr. chairman , i think the gentleman has good ...\n",
            "2740                     R  mr. speaker , i reserve the balance of my time...\n",
            "\n",
            "[2741 rows x 2 columns]\n"
          ],
          "name": "stdout"
        }
      ]
    },
    {
      "cell_type": "code",
      "metadata": {
        "id": "hLjP9ArNFShe"
      },
      "source": [
        ""
      ],
      "execution_count": 77,
      "outputs": []
    }
  ]
}